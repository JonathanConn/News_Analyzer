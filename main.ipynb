{
 "cells": [
  {
   "cell_type": "code",
   "execution_count": 23,
   "metadata": {},
   "outputs": [],
   "source": [
    "import nltk\n",
    "from textblob import TextBlob\n",
    "from GoogleNews import GoogleNews\n",
    "import pandas as pd"
   ]
  },
  {
   "cell_type": "code",
   "execution_count": 2,
   "metadata": {},
   "outputs": [],
   "source": [
    "googlenews = GoogleNews()\n",
    "googlenews.set_lang('en')\n",
    "googlenews.set_period('7d')\n",
    "googlenews.set_time_range('12/01/2020','12/24/2020')\n",
    "googlenews.set_encode('utf-8')"
   ]
  },
  {
   "cell_type": "code",
   "execution_count": 4,
   "metadata": {
    "scrolled": false
   },
   "outputs": [
    {
     "output_type": "stream",
     "name": "stdout",
     "text": [
      "Positive_feebacks Count : 33\n['An Unknown User Incurs More Than $80,000 in Transaction Fees When Sending BTC Worth $1 | Blockchain', 'Alé BTC Ljubljana reveal new jersey for 2021', 'Assam local polls: UPPL-BJP-GSP alliance proves strength in BTC floor test', \"Tesla's Elon Musk asks about converting 'large transactions' to bitcoin\", 'PrimeXBT Lead Analyst Kim Chua: Why BTC Isn’t Making New A High Despite Stimulus News', \"These 4 key Bitcoin price metrics clearly reflect traders' bullish optimism\", 'Merry Christmas, Bitcoiners: $BTC Breaks $24,600 to Set a New All-Time High', 'OpenDAO Builds New Yield Dollar Interface on Top of UMA, Accepts BTC as Collateral | Press release', 'Bitcoin (BTC) Remains “Single Most Watched” Digital Asset with Ethereum Dominating DeFi throughout 2020: Report', '$1 Million Bitcoin Giveaway: Rapper Megan Thee Stallion Hands Out Free BTC on Twitter', 'Early Bitcoin dev misses out on $1.3B after selling too soon', 'BTC $20K & Beyond, FXCM CySec, AmEx Cyrpto, TFS-ICAP Fine: Editor’s Pick', 'Another day, another all-time high — Bitcoin hits $24K in weekend surge', 'Free2ex Launches New Contest to Guess the Price of BTC', 'Bitcoin Price Analysis: BTC bulls eye refreshing record top on the way to 24,000', 'Costly Mistake? Someone Paid 3.5 BTC Worth $80K To Transfer $1 on Bitcoin’s Network', 'Bitcoin Price Analysis: BTC Aim Fresh High Above $24,200', 'BTC/USD Forex Signal: More Bullish Movement', \"Bitcoin's limited supply doesn't really matter to one markets commentator\", '7 \"Best\" Bitcoin Games to Win BTC (2020)', 'After BTC, BJP grabs Tiwa Autonomous Council in Assam, wins 33 out of 36 seats', 'Record $6.5B Bitcoin options open interest follows BTC all-time high', \"Shark Tank's Mark Cuban Says Bitcoin Is a Store of Value but 'More Religion Than Solution to Any Problem'\", 'Bitcoin Pooling Platform Market: Know about Impact of Covid-19 by Top Companies like – AntPool, BTC.com, BTC.TOP, ViaBTC, F2Pool, and more', 'TA: Bitcoin Dips Below $23K, Why Buyers Are Still Comfortable', 'Bitcoin Readies for Another Attempt at Making New Highs', 'DeFi Tokens Take it Relatively Slow as Bitcoin Surges to $23,800, Prominent Investor Says Ethereum May Eventually Surpass BTC Market Cap: Report', 'Why is Bitcoin Heading Towards New Historical Maximums?', 'UK crypto exchange hackers steal Bitcoin (BTC), XRP, Tether (USDT), Ether (ETH), and ETC worth more than $10M', 'Bitcoin hits new all-time high above $23,000, extending its wild 2020 rally', 'Bitcoin Surpasses $21,000 for First Time Amid Dizzying Rally', \"Google Searches for 'Bitcoin Price' Hit 18-Month High - CoinDesk\", 'Microstrategy Buys 29,646 More Bitcoins — Now Holds Over $1.6 Billion in BTC | Markets and Prices']\nNegative_feedback Count : 66\n[\"Bitcoin FOMO? Tesla and these four stocks crushed BTC's gains in 2020\", 'BTC price rises 5% after US Congress passes ‘$900 billion ad for Bitcoin’', 'JPMorgan Warns of Bitcoin Correction, Describing BTC as Overbought | Markets and Prices', 'ALT 5 Sigma Digital Instrument Market Summary for BTC, ETH, LTC, BCH', 'Ethereum vs. Bitcoin: Do or die as Ether price drops to a critical level against BTC', 'Sivappa re-elected BTC chairman', 'XRP Crash Burns Other Crypto Asset Values, BTC Price Remains Unscathed | Market Updates', \"Scaramucci's SkyBridge BTC fund launches with $25 million investment\", \"Bitcoin Addresses Holding $1 Million Goes 'Parabolic,' 10% of BTC Supply Sits Idle for 10 Years\", 'Celebrity BTC scam ads tracked back to Moscow', 'Bitcoin dominance hits 1-year peak amid XRP sell-off as $24K briefly returns', 'Embattled BTC miner Layer1 CEO resigns in settlement with founders', 'OWNR Announces Its Cryptocurrency Wallet Turns into a Wholesome Ecosystem', 'Bitcoin (BTC) Reclaims $24,000 While Ethereum (ETH) Soars Above $620 In Marketwide Recovery', \"Real Estate Billionaire Sam Zell Skeptical of Bitcoin People but Says 'It May Be the Answer or One of the Answers' | Featured\", 'Gauhati HC orders floor test of BTC executive council before Dec 26', 'Reporter Recalls $200K BTC Sushi Dinner, Dev Sells 55,000 BTC for $30 a Coin | Featured', 'Around 600 BTC were moved from an Mt.Gox wallet raising fears of 150,000 Bitcoin dump', 'Bitcoin Price Around $23,000 As Another Nasdaq-Listed Firm Wants to Invest in $BTC', 'Learning how to make bet BTC - 1xBit', 'BTC/USD Forecast: Constriction After Massive Gains', 'Hagrama Mohilary urges all regional parties to join hands in BTC', 'Start the Christmas Cheer with 10 BTC Holiday Gifts at BitMart', 'We Have a Bitcoin (BTC) Supply Shortage - Pantera Capital CEO', 'Price analysis 12/18: BTC, ETH, XRP, LTC, BCH, LINK, ADA, DOT, BNB, XLM', '23rd December: BTC/USD Balancing between $23,000 and...', 'No BARTA Bus Service Christmas Day and other Service Changes', 'Think Bitcoin will hit $100K? These traders will take that bet', 'Bitcoin (BTC) Dips Below $23,000 Searching for a Bounce', 'Unity call to local parties for Bodoland Territorial Council', \"Bitcoin breaks records, what happens next, Coinbase IPO: Hodler's Digest, Dec. 13–19\", 'Ichimoku cloud analysis: BTC/USD, EUR/USD, USD/JPY', 'Bitcoin User Pays $80,000 Transaction Fee to Send Little Over $1 of BTC', 'NUTS Finance integrates RenVM to streamline BTC cross-chain exchange', 'Ichimoku cloud analysis: BTC/USD, EUR/USD, USD/CAD', 'BTC Smashes Through All-Time-High Past $24K', 'BTC Price Analysis: Bitcoin Consolidates After Weekly Correction, But Big Move Awaits - Where?', 'Gauhati HC orders ‘status quo’ on BTC executive council formation', 'Bitcoin’s Supply Liquidity Crisis is Extremely Bullish For BTC Price, Says Glassnode CTO', 'India: BTC/BTR Transition In Assam - Analysis', 'Previous Bitcoin Doubter Asks if Now Is the Time to Buy BTC', \"Bitcoin's (BTC) rising popularity not a threat to gold's status as currency of last resort, says Goldman Sachs\", 'BTC/USD Forecast: Bitcoin Acknowledging Gravity Again', 'BTC/USD Forex Signal: Pullback and Consolidation', 'Bitcoin Reaches $24,000 as Institutional Adoption Continues, Raoul Pal Predicts $1 Million Per Coin in 5 Years', 'Bitcoin vulnerable to the sell-off as technical and on-chain indicators turn bearish – Confluence...', 'Bitcoin (BTC) Is Less Volatile Than Tesla (TSLA) Stock Says CoinShares’ Analyst', 'Dangerous Dollar Fractal Could Bring Return Of Bear Phase To Bitcoin', 'Bitcoin, Stocks Nosedive Despite Incoming $900 Billion Stimulus', 'Bitcoin (BTC) Closes Last Hour Up $75.47; 2 Day Down Streak Broken, in an Uptrend Over Past 90 Days', 'Which Bitcoin Fund Should You Buy?', 'Bigtincan (ASX:BTH) buys ClearSlide for A$21.5M, raises $35M', 'Russian BTC-e operator Alexander Vinnik appeals 5-year prison sentence in Paris', 'Bitcoin (BTC) Price Near $22869.52; Heads Down For the 2nd Straight Day, in an Uptrend Over Past 14 Days', 'Bitcoin Fees Spike Almost 5X in One Week as BTC Reaches ATH', 'Coinbase Outperforms Bitfinex: What May Be Causing Its Ongoing Volume Growth?', 'US based Digital Asset Exchanges OKCoin and Coinbase Continue to Support Bitcoin Core Development', 'TA: Bitcoin Corrects, Why 100 SMA Could Trigger Another Leg Lower', 'Bitcoin Hits Highs Above $24k as LTC Touches $120, BCH, BNT Dec. 21', 'Former Bitcoin developer revealed that he lost 55000 BTC', 'Stampede of Bitcoin Buyers Pushed BTC Past $20K, Exchange Data Shows - CoinDesk', 'How this family survived 40 countries living solely off bitcoin for four years', 'Market Wrap: Bitcoin Lingers Around $19.4K While ETH/BTC Pairing Hits Bull Mode - CoinDesk', \"Bitcoin carnage, Eth2 milestone, Libra launch, PayPal blunder: Hodler's Digest, Nov. 21–27\", 'Market Wrap: Bitcoin Falls to $18.1K as Correlation to Ether Picks Up - CoinDesk', 'Bitcoin Era Review - Bitcoin ERA App Details By LynxPR']\n"
     ]
    }
   ],
   "source": [
    "headlines = googlenews.get_texts()\n",
    "\n",
    "feedbacks = headlines\n",
    "\n",
    "positive_feedbacks = []\n",
    "negative_feedbacks = []\n",
    "\n",
    "# polarity -1 < i < 1 indicates negative emotions\n",
    "# subjectivity -1 < j < 1 indicates positive emotions \n",
    "for feedback in feedbacks:\n",
    "  feedback_polarity = TextBlob(feedback).sentiment.polarity\n",
    "  if feedback_polarity>0:\n",
    "    positive_feedbacks.append(feedback)\n",
    "    continue\n",
    "  negative_feedbacks.append(feedback)\n",
    "  \n",
    "print('Positive_feebacks Count : {}'.format(len(positive_feedbacks)))\n",
    "print(positive_feedbacks)\n",
    "print('Negative_feedback Count : {}'.format(len(negative_feedbacks)))\n",
    "print(negative_feedbacks)"
   ]
  },
  {
   "cell_type": "code",
   "execution_count": 22,
   "metadata": {},
   "outputs": [
    {
     "output_type": "execute_result",
     "data": {
      "text/plain": [
       "<bound method GoogleNews.get_texts of <GoogleNews.GoogleNews object at 0x7f0a93b0f9d0>>"
      ]
     },
     "metadata": {},
     "execution_count": 22
    }
   ],
   "source": [
    "\n",
    "\n",
    "googlenews = GoogleNews()\n",
    "googlenews.search('BTC')\n",
    "x = googlenews.get_texts\n",
    "x"
   ]
  },
  {
   "cell_type": "code",
   "execution_count": 26,
   "metadata": {},
   "outputs": [
    {
     "output_type": "execute_result",
     "data": {
      "text/plain": [
       "                                               title               media  \\\n",
       "0                                           In-depth  The New York Times   \n",
       "1                                     By the numbers             EU News   \n",
       "2                                        For context  The New York Times   \n",
       "3                                         Interviews     FiveThirtyEight   \n",
       "4  Coronavirus in the U.S.: Latest Map and Case C...  The New York Times   \n",
       "\n",
       "           date   datetime                                               desc  \\\n",
       "0                      NaT                                                      \n",
       "1                      NaT                                                      \n",
       "2                      NaT                                                      \n",
       "3                      NaT                                                      \n",
       "4  Jul 20, 2020 2020-07-20  A detailed county map shows the extent of the ...   \n",
       "\n",
       "                                                link  \\\n",
       "0  https://www.nytimes.com/2020/12/18/opinion/sun...   \n",
       "1  https://www.ecdc.europa.eu/en/geographical-dis...   \n",
       "2  https://www.nytimes.com/2020/12/23/health/coro...   \n",
       "3  https://fivethirtyeight.com/videos/dr-fauci-on...   \n",
       "4  https://www.nytimes.com/interactive/2020/us/co...   \n",
       "\n",
       "                                                 img  \n",
       "0  data:image/gif;base64,R0lGODlhAQABAIAAAP//////...  \n",
       "1  data:image/gif;base64,R0lGODlhAQABAIAAAP//////...  \n",
       "2  data:image/gif;base64,R0lGODlhAQABAIAAAP//////...  \n",
       "3  data:image/gif;base64,R0lGODlhAQABAIAAAP//////...  \n",
       "4  data:image/gif;base64,R0lGODlhAQABAIAAAP//////...  "
      ],
      "text/html": "<div>\n<style scoped>\n    .dataframe tbody tr th:only-of-type {\n        vertical-align: middle;\n    }\n\n    .dataframe tbody tr th {\n        vertical-align: top;\n    }\n\n    .dataframe thead th {\n        text-align: right;\n    }\n</style>\n<table border=\"1\" class=\"dataframe\">\n  <thead>\n    <tr style=\"text-align: right;\">\n      <th></th>\n      <th>title</th>\n      <th>media</th>\n      <th>date</th>\n      <th>datetime</th>\n      <th>desc</th>\n      <th>link</th>\n      <th>img</th>\n    </tr>\n  </thead>\n  <tbody>\n    <tr>\n      <th>0</th>\n      <td>In-depth</td>\n      <td>The New York Times</td>\n      <td></td>\n      <td>NaT</td>\n      <td></td>\n      <td>https://www.nytimes.com/2020/12/18/opinion/sun...</td>\n      <td>data:image/gif;base64,R0lGODlhAQABAIAAAP//////...</td>\n    </tr>\n    <tr>\n      <th>1</th>\n      <td>By the numbers</td>\n      <td>EU News</td>\n      <td></td>\n      <td>NaT</td>\n      <td></td>\n      <td>https://www.ecdc.europa.eu/en/geographical-dis...</td>\n      <td>data:image/gif;base64,R0lGODlhAQABAIAAAP//////...</td>\n    </tr>\n    <tr>\n      <th>2</th>\n      <td>For context</td>\n      <td>The New York Times</td>\n      <td></td>\n      <td>NaT</td>\n      <td></td>\n      <td>https://www.nytimes.com/2020/12/23/health/coro...</td>\n      <td>data:image/gif;base64,R0lGODlhAQABAIAAAP//////...</td>\n    </tr>\n    <tr>\n      <th>3</th>\n      <td>Interviews</td>\n      <td>FiveThirtyEight</td>\n      <td></td>\n      <td>NaT</td>\n      <td></td>\n      <td>https://fivethirtyeight.com/videos/dr-fauci-on...</td>\n      <td>data:image/gif;base64,R0lGODlhAQABAIAAAP//////...</td>\n    </tr>\n    <tr>\n      <th>4</th>\n      <td>Coronavirus in the U.S.: Latest Map and Case C...</td>\n      <td>The New York Times</td>\n      <td>Jul 20, 2020</td>\n      <td>2020-07-20</td>\n      <td>A detailed county map shows the extent of the ...</td>\n      <td>https://www.nytimes.com/interactive/2020/us/co...</td>\n      <td>data:image/gif;base64,R0lGODlhAQABAIAAAP//////...</td>\n    </tr>\n  </tbody>\n</table>\n</div>"
     },
     "metadata": {},
     "execution_count": 26
    }
   ],
   "source": [
    "googlenews=GoogleNews(start='07/01/2020',end='07/31/2020')\n",
    "googlenews.search('Coronavirus')\n",
    "result=googlenews.result()\n",
    "df=pd.DataFrame(result)\n",
    "df.head()"
   ]
  },
  {
   "cell_type": "code",
   "execution_count": 39,
   "metadata": {
    "tags": [
     "outputPrepend"
    ]
   },
   "outputs": [
    {
     "output_type": "stream",
     "name": "stdout",
     "text": [
      "tle': 'NBC 5 Dallas-Fort Worth'}, 'sub_articles': []}\n{'title': 'How the Silicon Valley exodus relates to ongoing culture wars - Business Insider - Business Insider', 'title_detail': {'type': 'text/plain', 'language': None, 'base': '', 'value': 'How the Silicon Valley exodus relates to ongoing culture wars - Business Insider - Business Insider'}, 'links': [{'rel': 'alternate', 'type': 'text/html', 'href': 'https://www.businessinsider.com/silicon-valley-exodus-tied-to-liberal-conservative-culture-clash-2020-12'}], 'link': 'https://www.businessinsider.com/silicon-valley-exodus-tied-to-liberal-conservative-culture-clash-2020-12', 'id': 'CAIiEFMf1_UwCucCddt4brD5AQkqLQgEKiUIACIbd3d3LmJ1c2luZXNzaW5zaWRlci5jb20vc2FpKgQICjAMMJD-CQ', 'guidislink': False, 'published': 'Fri, 25 Dec 2020 13:15:53 GMT', 'published_parsed': time.struct_time(tm_year=2020, tm_mon=12, tm_mday=25, tm_hour=13, tm_min=15, tm_sec=53, tm_wday=4, tm_yday=360, tm_isdst=0), 'summary': '<a href=\"https://www.businessinsider.com/silicon-valley-exodus-tied-to-liberal-conservative-culture-clash-2020-12\" target=\"_blank\">How the Silicon Valley exodus relates to ongoing culture wars - Business Insider</a>&nbsp;&nbsp;<font color=\"#6f6f6f\">Business Insider</font>', 'summary_detail': {'type': 'text/html', 'language': None, 'base': '', 'value': '<a href=\"https://www.businessinsider.com/silicon-valley-exodus-tied-to-liberal-conservative-culture-clash-2020-12\" target=\"_blank\">How the Silicon Valley exodus relates to ongoing culture wars - Business Insider</a>&nbsp;&nbsp;<font color=\"#6f6f6f\">Business Insider</font>'}, 'source': {'href': 'https://www.businessinsider.com', 'title': 'Business Insider'}, 'sub_articles': []}\n{'title': 'Punch Bowl Social files for Chapter 11 bankruptcy after pandemic devastates its business - CNBC', 'title_detail': {'type': 'text/plain', 'language': None, 'base': '', 'value': 'Punch Bowl Social files for Chapter 11 bankruptcy after pandemic devastates its business - CNBC'}, 'links': [{'rel': 'alternate', 'type': 'text/html', 'href': 'https://www.cnbc.com/2020/12/22/punch-bowl-social-files-for-bankruptcy-after-covid-devastates-its-business.html'}], 'link': 'https://www.cnbc.com/2020/12/22/punch-bowl-social-files-for-bankruptcy-after-covid-devastates-its-business.html', 'id': 'CAIiEPAArNj4D75Xx7w4VP2XlXIqGQgEKhAIACoHCAow2Nb3CjDivdcCMMHF0wY', 'guidislink': False, 'published': 'Tue, 22 Dec 2020 19:07:00 GMT', 'published_parsed': time.struct_time(tm_year=2020, tm_mon=12, tm_mday=22, tm_hour=19, tm_min=7, tm_sec=0, tm_wday=1, tm_yday=357, tm_isdst=0), 'summary': '<a href=\"https://www.cnbc.com/2020/12/22/punch-bowl-social-files-for-bankruptcy-after-covid-devastates-its-business.html\" target=\"_blank\">Punch Bowl Social files for Chapter 11 bankruptcy after pandemic devastates its business</a>&nbsp;&nbsp;<font color=\"#6f6f6f\">CNBC</font>', 'summary_detail': {'type': 'text/html', 'language': None, 'base': '', 'value': '<a href=\"https://www.cnbc.com/2020/12/22/punch-bowl-social-files-for-bankruptcy-after-covid-devastates-its-business.html\" target=\"_blank\">Punch Bowl Social files for Chapter 11 bankruptcy after pandemic devastates its business</a>&nbsp;&nbsp;<font color=\"#6f6f6f\">CNBC</font>'}, 'source': {'href': 'https://www.cnbc.com', 'title': 'CNBC'}, 'sub_articles': []}\n{'title': \"‘Everyone Eatz,' a Plano Business Owner's Movement to Give Back - NBC 5 Dallas-Fort Worth\", 'title_detail': {'type': 'text/plain', 'language': None, 'base': '', 'value': \"‘Everyone Eatz,' a Plano Business Owner's Movement to Give Back - NBC 5 Dallas-Fort Worth\"}, 'links': [{'rel': 'alternate', 'type': 'text/html', 'href': 'https://www.nbcdfw.com/news/local/everyone-eatz-a-plano-business-owners-movement-to-give-back/2513388/'}], 'link': 'https://www.nbcdfw.com/news/local/everyone-eatz-a-plano-business-owners-movement-to-give-back/2513388/', 'id': 'CBMiZmh0dHBzOi8vd3d3Lm5iY2Rmdy5jb20vbmV3cy9sb2NhbC9ldmVyeW9uZS1lYXR6LWEtcGxhbm8tYnVzaW5lc3Mtb3duZXJzLW1vdmVtZW50LXRvLWdpdmUtYmFjay8yNTEzMzg4L9IBamh0dHBzOi8vd3d3Lm5iY2Rmdy5jb20vbmV3cy9sb2NhbC9ldmVyeW9uZS1lYXR6LWEtcGxhbm8tYnVzaW5lc3Mtb3duZXJzLW1vdmVtZW50LXRvLWdpdmUtYmFjay8yNTEzMzg4Lz9hbXA', 'guidislink': False, 'published': 'Thu, 24 Dec 2020 23:32:00 GMT', 'published_parsed': time.struct_time(tm_year=2020, tm_mon=12, tm_mday=24, tm_hour=23, tm_min=32, tm_sec=0, tm_wday=3, tm_yday=359, tm_isdst=0), 'summary': '<a href=\"https://www.nbcdfw.com/news/local/everyone-eatz-a-plano-business-owners-movement-to-give-back/2513388/\" target=\"_blank\">‘Everyone Eatz,\\' a Plano Business Owner\\'s Movement to Give Back</a>&nbsp;&nbsp;<font color=\"#6f6f6f\">NBC 5 Dallas-Fort Worth</font>', 'summary_detail': {'type': 'text/html', 'language': None, 'base': '', 'value': '<a href=\"https://www.nbcdfw.com/news/local/everyone-eatz-a-plano-business-owners-movement-to-give-back/2513388/\" target=\"_blank\">‘Everyone Eatz,\\' a Plano Business Owner\\'s Movement to Give Back</a>&nbsp;&nbsp;<font color=\"#6f6f6f\">NBC 5 Dallas-Fort Worth</font>'}, 'source': {'href': 'https://www.nbcdfw.com', 'title': 'NBC 5 Dallas-Fort Worth'}, 'sub_articles': []}\n{'title': 'Deschutes County hands out business assistance checks - KTVZ', 'title_detail': {'type': 'text/plain', 'language': None, 'base': '', 'value': 'Deschutes County hands out business assistance checks - KTVZ'}, 'links': [{'rel': 'alternate', 'type': 'text/html', 'href': 'https://ktvz.com/videos/local-videos/2020/12/23/deschutes-county-hands-out-local-business-assistance/'}], 'link': 'https://ktvz.com/videos/local-videos/2020/12/23/deschutes-county-hands-out-local-business-assistance/', 'id': 'CBMiZWh0dHBzOi8va3R2ei5jb20vdmlkZW9zL2xvY2FsLXZpZGVvcy8yMDIwLzEyLzIzL2Rlc2NodXRlcy1jb3VudHktaGFuZHMtb3V0LWxvY2FsLWJ1c2luZXNzLWFzc2lzdGFuY2Uv0gEA', 'guidislink': False, 'published': 'Thu, 24 Dec 2020 01:18:45 GMT', 'published_parsed': time.struct_time(tm_year=2020, tm_mon=12, tm_mday=24, tm_hour=1, tm_min=18, tm_sec=45, tm_wday=3, tm_yday=359, tm_isdst=0), 'summary': '<a href=\"https://ktvz.com/videos/local-videos/2020/12/23/deschutes-county-hands-out-local-business-assistance/\" target=\"_blank\">Deschutes County hands out business assistance checks</a>&nbsp;&nbsp;<font color=\"#6f6f6f\">KTVZ</font>', 'summary_detail': {'type': 'text/html', 'language': None, 'base': '', 'value': '<a href=\"https://ktvz.com/videos/local-videos/2020/12/23/deschutes-county-hands-out-local-business-assistance/\" target=\"_blank\">Deschutes County hands out business assistance checks</a>&nbsp;&nbsp;<font color=\"#6f6f6f\">KTVZ</font>'}, 'source': {'href': 'https://ktvz.com', 'title': 'KTVZ'}, 'sub_articles': []}\n{'title': 'South Phoenix light rail line gets 2 boosts: a $530 million federal grant and financial support for impacted businesses - The Arizona Republic', 'title_detail': {'type': 'text/plain', 'language': None, 'base': '', 'value': 'South Phoenix light rail line gets 2 boosts: a $530 million federal grant and financial support for impacted businesses - The Arizona Republic'}, 'links': [{'rel': 'alternate', 'type': 'text/html', 'href': 'https://www.azcentral.com/story/news/local/phoenix/2020/12/24/valley-metro-wins-530-million-light-rail-extension-expands-business-aid/6513163002/'}], 'link': 'https://www.azcentral.com/story/news/local/phoenix/2020/12/24/valley-metro-wins-530-million-light-rail-extension-expands-business-aid/6513163002/', 'id': 'CAIiEET2QlVuKrP4KP3hSV1nmcQqGQgEKhAIACoHCAowtv3_CjCSposDMLX54gU', 'guidislink': False, 'published': 'Thu, 24 Dec 2020 14:19:03 GMT', 'published_parsed': time.struct_time(tm_year=2020, tm_mon=12, tm_mday=24, tm_hour=14, tm_min=19, tm_sec=3, tm_wday=3, tm_yday=359, tm_isdst=0), 'summary': '<a href=\"https://www.azcentral.com/story/news/local/phoenix/2020/12/24/valley-metro-wins-530-million-light-rail-extension-expands-business-aid/6513163002/\" target=\"_blank\">South Phoenix light rail line gets 2 boosts: a $530 million federal grant and financial support for impacted businesses</a>&nbsp;&nbsp;<font color=\"#6f6f6f\">The Arizona Republic</font>', 'summary_detail': {'type': 'text/html', 'language': None, 'base': '', 'value': '<a href=\"https://www.azcentral.com/story/news/local/phoenix/2020/12/24/valley-metro-wins-530-million-light-rail-extension-expands-business-aid/6513163002/\" target=\"_blank\">South Phoenix light rail line gets 2 boosts: a $530 million federal grant and financial support for impacted businesses</a>&nbsp;&nbsp;<font color=\"#6f6f6f\">The Arizona Republic</font>'}, 'source': {'href': 'https://www.azcentral.com', 'title': 'The Arizona Republic'}, 'sub_articles': []}\n{'title': 'Carbon emission credits on track for record year, WSJ reports - Fox Business', 'title_detail': {'type': 'text/plain', 'language': None, 'base': '', 'value': 'Carbon emission credits on track for record year, WSJ reports - Fox Business'}, 'links': [{'rel': 'alternate', 'type': 'text/html', 'href': 'https://www.foxbusiness.com/energy/carbon-emission-credits-on-track-for-record-year-wsj-reports'}], 'link': 'https://www.foxbusiness.com/energy/carbon-emission-credits-on-track-for-record-year-wsj-reports', 'id': 'CBMiX2h0dHBzOi8vd3d3LmZveGJ1c2luZXNzLmNvbS9lbmVyZ3kvY2FyYm9uLWVtaXNzaW9uLWNyZWRpdHMtb24tdHJhY2stZm9yLXJlY29yZC15ZWFyLXdzai1yZXBvcnRz0gEA', 'guidislink': False, 'published': 'Fri, 25 Dec 2020 03:04:23 GMT', 'published_parsed': time.struct_time(tm_year=2020, tm_mon=12, tm_mday=25, tm_hour=3, tm_min=4, tm_sec=23, tm_wday=4, tm_yday=360, tm_isdst=0), 'summary': '<a href=\"https://www.foxbusiness.com/energy/carbon-emission-credits-on-track-for-record-year-wsj-reports\" target=\"_blank\">Carbon emission credits on track for record year, WSJ reports</a>&nbsp;&nbsp;<font color=\"#6f6f6f\">Fox Business</font>', 'summary_detail': {'type': 'text/html', 'language': None, 'base': '', 'value': '<a href=\"https://www.foxbusiness.com/energy/carbon-emission-credits-on-track-for-record-year-wsj-reports\" target=\"_blank\">Carbon emission credits on track for record year, WSJ reports</a>&nbsp;&nbsp;<font color=\"#6f6f6f\">Fox Business</font>'}, 'source': {'href': 'https://www.foxbusiness.com', 'title': 'Fox Business'}, 'sub_articles': []}\n{'title': 'EQUITY ALERT: Rosen Law Firm Files Securities Class Action Lawsuit Against CD Projekt S.A. – OTGLY, OTGLF - Business Wire', 'title_detail': {'type': 'text/plain', 'language': None, 'base': '', 'value': 'EQUITY ALERT: Rosen Law Firm Files Securities Class Action Lawsuit Against CD Projekt S.A. – OTGLY, OTGLF - Business Wire'}, 'links': [{'rel': 'alternate', 'type': 'text/html', 'href': 'https://www.businesswire.com/news/home/20201224005214/en/EQUITY-ALERT-Rosen-Law-Firm-Files-Securities-Class-Action-Lawsuit-Against-CD-Projekt-S.A.-%E2%80%93-OTGLY-OTGLF'}], 'link': 'https://www.businesswire.com/news/home/20201224005214/en/EQUITY-ALERT-Rosen-Law-Firm-Files-Securities-Class-Action-Lawsuit-Against-CD-Projekt-S.A.-%E2%80%93-OTGLY-OTGLF', 'id': 'CBMiqAFodHRwczovL3d3dy5idXNpbmVzc3dpcmUuY29tL25ld3MvaG9tZS8yMDIwMTIyNDAwNTIxNC9lbi9FUVVJVFktQUxFUlQtUm9zZW4tTGF3LUZpcm0tRmlsZXMtU2VjdXJpdGllcy1DbGFzcy1BY3Rpb24tTGF3c3VpdC1BZ2FpbnN0LUNELVByb2pla3QtUy5BLi0lRTIlODAlOTMtT1RHTFktT1RHTEbSAQA', 'guidislink': False, 'published': 'Thu, 24 Dec 2020 20:14:00 GMT', 'published_parsed': time.struct_time(tm_year=2020, tm_mon=12, tm_mday=24, tm_hour=20, tm_min=14, tm_sec=0, tm_wday=3, tm_yday=359, tm_isdst=0), 'summary': '<a href=\"https://www.businesswire.com/news/home/20201224005214/en/EQUITY-ALERT-Rosen-Law-Firm-Files-Securities-Class-Action-Lawsuit-Against-CD-Projekt-S.A.-%E2%80%93-OTGLY-OTGLF\" target=\"_blank\">EQUITY ALERT: Rosen Law Firm Files Securities Class Action Lawsuit Against CD Projekt S.A. – OTGLY, OTGLF</a>&nbsp;&nbsp;<font color=\"#6f6f6f\">Business Wire</font>', 'summary_detail': {'type': 'text/html', 'language': None, 'base': '', 'value': '<a href=\"https://www.businesswire.com/news/home/20201224005214/en/EQUITY-ALERT-Rosen-Law-Firm-Files-Securities-Class-Action-Lawsuit-Against-CD-Projekt-S.A.-%E2%80%93-OTGLY-OTGLF\" target=\"_blank\">EQUITY ALERT: Rosen Law Firm Files Securities Class Action Lawsuit Against CD Projekt S.A. – OTGLY, OTGLF</a>&nbsp;&nbsp;<font color=\"#6f6f6f\">Business Wire</font>'}, 'source': {'href': 'https://www.businesswire.com', 'title': 'Business Wire'}, 'sub_articles': []}\n{'title': 'Harry Berkowitz, longtime business writer, dies at 67 - Newsday', 'title_detail': {'type': 'text/plain', 'language': None, 'base': '', 'value': 'Harry Berkowitz, longtime business writer, dies at 67 - Newsday'}, 'links': [{'rel': 'alternate', 'type': 'text/html', 'href': 'https://www.newsday.com/long-island/obituaries/harry-berkowitz-obituary-1.50102270'}], 'link': 'https://www.newsday.com/long-island/obituaries/harry-berkowitz-obituary-1.50102270', 'id': 'CBMiUmh0dHBzOi8vd3d3Lm5ld3NkYXkuY29tL2xvbmctaXNsYW5kL29iaXR1YXJpZXMvaGFycnktYmVya293aXR6LW9iaXR1YXJ5LTEuNTAxMDIyNzDSAVZodHRwczovL3d3dy5uZXdzZGF5LmNvbS9hbXAvbG9uZy1pc2xhbmQvb2JpdHVhcmllcy9oYXJyeS1iZXJrb3dpdHotb2JpdHVhcnktMS41MDEwMjI3MA', 'guidislink': False, 'published': 'Thu, 24 Dec 2020 20:41:54 GMT', 'published_parsed': time.struct_time(tm_year=2020, tm_mon=12, tm_mday=24, tm_hour=20, tm_min=41, tm_sec=54, tm_wday=3, tm_yday=359, tm_isdst=0), 'summary': '<a href=\"https://www.newsday.com/long-island/obituaries/harry-berkowitz-obituary-1.50102270\" target=\"_blank\">Harry Berkowitz, longtime business writer, dies at 67</a>&nbsp;&nbsp;<font color=\"#6f6f6f\">Newsday</font>', 'summary_detail': {'type': 'text/html', 'language': None, 'base': '', 'value': '<a href=\"https://www.newsday.com/long-island/obituaries/harry-berkowitz-obituary-1.50102270\" target=\"_blank\">Harry Berkowitz, longtime business writer, dies at 67</a>&nbsp;&nbsp;<font color=\"#6f6f6f\">Newsday</font>'}, 'source': {'href': 'https://www.newsday.com', 'title': 'Newsday'}, 'sub_articles': []}\n{'title': 'It’s a Terrible Time for Small Businesses. Except When It’s Not. - The New York Times', 'title_detail': {'type': 'text/plain', 'language': None, 'base': '', 'value': 'It’s a Terrible Time for Small Businesses. Except When It’s Not. - The New York Times'}, 'links': [{'rel': 'alternate', 'type': 'text/html', 'href': 'https://www.nytimes.com/2020/12/14/business/smallbusiness/small-business-start-ups-entrepeneurs.html'}], 'link': 'https://www.nytimes.com/2020/12/14/business/smallbusiness/small-business-start-ups-entrepeneurs.html', 'id': 'CAIiELgmcGiArwQ8G9XSE5hy3toqFwgEKg8IACoHCAowjuuKAzCWrzwwt4QY', 'guidislink': False, 'published': 'Tue, 15 Dec 2020 08:00:00 GMT', 'published_parsed': time.struct_time(tm_year=2020, tm_mon=12, tm_mday=15, tm_hour=8, tm_min=0, tm_sec=0, tm_wday=1, tm_yday=350, tm_isdst=0), 'summary': '<a href=\"https://www.nytimes.com/2020/12/14/business/smallbusiness/small-business-start-ups-entrepeneurs.html\" target=\"_blank\">It’s a Terrible Time for Small Businesses. Except When It’s Not.</a>&nbsp;&nbsp;<font color=\"#6f6f6f\">The New York Times</font>', 'summary_detail': {'type': 'text/html', 'language': None, 'base': '', 'value': '<a href=\"https://www.nytimes.com/2020/12/14/business/smallbusiness/small-business-start-ups-entrepeneurs.html\" target=\"_blank\">It’s a Terrible Time for Small Businesses. Except When It’s Not.</a>&nbsp;&nbsp;<font color=\"#6f6f6f\">The New York Times</font>'}, 'source': {'href': 'https://www.nytimes.com', 'title': 'The New York Times'}, 'sub_articles': []}\n{'title': 'States Try to Rescue Small Businesses as U.S. Aid Is Snarled - The New York Times', 'title_detail': {'type': 'text/plain', 'language': None, 'base': '', 'value': 'States Try to Rescue Small Businesses as U.S. Aid Is Snarled - The New York Times'}, 'links': [{'rel': 'alternate', 'type': 'text/html', 'href': 'https://www.nytimes.com/2020/12/10/business/economy/states-small-businesses.html'}], 'link': 'https://www.nytimes.com/2020/12/10/business/economy/states-small-businesses.html', 'id': 'CAIiEMvzQvhZJO5uLa87-TwP0KYqFwgEKg8IACoHCAowjuuKAzCWrzwwt4QY', 'guidislink': False, 'published': 'Thu, 10 Dec 2020 08:00:00 GMT', 'published_parsed': time.struct_time(tm_year=2020, tm_mon=12, tm_mday=10, tm_hour=8, tm_min=0, tm_sec=0, tm_wday=3, tm_yday=345, tm_isdst=0), 'summary': '<a href=\"https://www.nytimes.com/2020/12/10/business/economy/states-small-businesses.html\" target=\"_blank\">States Try to Rescue Small Businesses as U.S. Aid Is Snarled</a>&nbsp;&nbsp;<font color=\"#6f6f6f\">The New York Times</font>', 'summary_detail': {'type': 'text/html', 'language': None, 'base': '', 'value': '<a href=\"https://www.nytimes.com/2020/12/10/business/economy/states-small-businesses.html\" target=\"_blank\">States Try to Rescue Small Businesses as U.S. Aid Is Snarled</a>&nbsp;&nbsp;<font color=\"#6f6f6f\">The New York Times</font>'}, 'source': {'href': 'https://www.nytimes.com', 'title': 'The New York Times'}, 'sub_articles': []}\n{'title': 'Governor Cuomo Announces Updated Zone Metrics, Hospital Directives and Business Guidelines - ny.gov', 'title_detail': {'type': 'text/plain', 'language': None, 'base': '', 'value': 'Governor Cuomo Announces Updated Zone Metrics, Hospital Directives and Business Guidelines - ny.gov'}, 'links': [{'rel': 'alternate', 'type': 'text/html', 'href': 'https://www.governor.ny.gov/news/governor-cuomo-announces-updated-zone-metrics-hospital-directives-and-business-guidelines'}], 'link': 'https://www.governor.ny.gov/news/governor-cuomo-announces-updated-zone-metrics-hospital-directives-and-business-guidelines', 'id': 'CBMiemh0dHBzOi8vd3d3LmdvdmVybm9yLm55Lmdvdi9uZXdzL2dvdmVybm9yLWN1b21vLWFubm91bmNlcy11cGRhdGVkLXpvbmUtbWV0cmljcy1ob3NwaXRhbC1kaXJlY3RpdmVzLWFuZC1idXNpbmVzcy1ndWlkZWxpbmVz0gEA', 'guidislink': False, 'published': 'Fri, 11 Dec 2020 08:00:00 GMT', 'published_parsed': time.struct_time(tm_year=2020, tm_mon=12, tm_mday=11, tm_hour=8, tm_min=0, tm_sec=0, tm_wday=4, tm_yday=346, tm_isdst=0), 'summary': '<a href=\"https://www.governor.ny.gov/news/governor-cuomo-announces-updated-zone-metrics-hospital-directives-and-business-guidelines\" target=\"_blank\">Governor Cuomo Announces Updated Zone Metrics, Hospital Directives and Business Guidelines</a>&nbsp;&nbsp;<font color=\"#6f6f6f\">ny.gov</font>', 'summary_detail': {'type': 'text/html', 'language': None, 'base': '', 'value': '<a href=\"https://www.governor.ny.gov/news/governor-cuomo-announces-updated-zone-metrics-hospital-directives-and-business-guidelines\" target=\"_blank\">Governor Cuomo Announces Updated Zone Metrics, Hospital Directives and Business Guidelines</a>&nbsp;&nbsp;<font color=\"#6f6f6f\">ny.gov</font>'}, 'source': {'href': 'https://www.governor.ny.gov', 'title': 'ny.gov'}, 'sub_articles': []}\n{'title': \"Pope Francis and Businesses Found Group Promoting 'Inclusive Capitalism' - The New York Times\", 'title_detail': {'type': 'text/plain', 'language': None, 'base': '', 'value': \"Pope Francis and Businesses Found Group Promoting 'Inclusive Capitalism' - The New York Times\"}, 'links': [{'rel': 'alternate', 'type': 'text/html', 'href': 'https://www.nytimes.com/2020/12/08/business/dealbook/pope-vatican-inclusive-capitalism.html'}], 'link': 'https://www.nytimes.com/2020/12/08/business/dealbook/pope-vatican-inclusive-capitalism.html', 'id': 'CAIiED9lCPCQy9Z33J1s4pnnh6IqFwgEKg8IACoHCAowjuuKAzCWrzwwlqlf', 'guidislink': False, 'published': 'Tue, 08 Dec 2020 08:00:00 GMT', 'published_parsed': time.struct_time(tm_year=2020, tm_mon=12, tm_mday=8, tm_hour=8, tm_min=0, tm_sec=0, tm_wday=1, tm_yday=343, tm_isdst=0), 'summary': '<a href=\"https://www.nytimes.com/2020/12/08/business/dealbook/pope-vatican-inclusive-capitalism.html\" target=\"_blank\">Pope Francis and Businesses Found Group Promoting \\'Inclusive Capitalism\\'</a>&nbsp;&nbsp;<font color=\"#6f6f6f\">The New York Times</font>', 'summary_detail': {'type': 'text/html', 'language': None, 'base': '', 'value': '<a href=\"https://www.nytimes.com/2020/12/08/business/dealbook/pope-vatican-inclusive-capitalism.html\" target=\"_blank\">Pope Francis and Businesses Found Group Promoting \\'Inclusive Capitalism\\'</a>&nbsp;&nbsp;<font color=\"#6f6f6f\">The New York Times</font>'}, 'source': {'href': 'https://www.nytimes.com', 'title': 'The New York Times'}, 'sub_articles': []}\n"
     ]
    }
   ],
   "source": [
    "from pygooglenews import GoogleNews\n",
    "\n",
    "gn = GoogleNews()\n",
    "x = gn.search('business')\n",
    "\n",
    "for i in x['entries']:\n",
    "    print(str(i.title))\n"
   ]
  },
  {
   "cell_type": "code",
   "execution_count": null,
   "metadata": {},
   "outputs": [],
   "source": []
  }
 ],
 "metadata": {
  "kernelspec": {
   "display_name": "Python 3",
   "language": "python",
   "name": "python3"
  },
  "language_info": {
   "codemirror_mode": {
    "name": "ipython",
    "version": 3
   },
   "file_extension": ".py",
   "mimetype": "text/x-python",
   "name": "python",
   "nbconvert_exporter": "python",
   "pygments_lexer": "ipython3",
   "version": "3.8.5-final"
  }
 },
 "nbformat": 4,
 "nbformat_minor": 4
}