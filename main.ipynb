{
 "cells": [
  {
   "cell_type": "code",
   "execution_count": 23,
   "metadata": {},
   "outputs": [],
   "source": [
    "import nltk\n",
    "from textblob import TextBlob\n",
    "from GoogleNews import GoogleNews\n",
    "import pandas as pd"
   ]
  },
  {
   "cell_type": "code",
   "execution_count": 2,
   "metadata": {},
   "outputs": [],
   "source": [
    "googlenews = GoogleNews()\n",
    "googlenews.set_lang('en')\n",
    "googlenews.set_period('7d')\n",
    "googlenews.set_time_range('12/01/2020','12/24/2020')\n",
    "googlenews.set_encode('utf-8')"
   ]
  },
  {
   "cell_type": "code",
   "execution_count": 4,
   "metadata": {
    "scrolled": false
   },
   "outputs": [
    {
     "output_type": "stream",
     "name": "stdout",
     "text": [
      "Positive_feebacks Count : 33\n['An Unknown User Incurs More Than $80,000 in Transaction Fees When Sending BTC Worth $1 | Blockchain', 'Alé BTC Ljubljana reveal new jersey for 2021', 'Assam local polls: UPPL-BJP-GSP alliance proves strength in BTC floor test', \"Tesla's Elon Musk asks about converting 'large transactions' to bitcoin\", 'PrimeXBT Lead Analyst Kim Chua: Why BTC Isn’t Making New A High Despite Stimulus News', \"These 4 key Bitcoin price metrics clearly reflect traders' bullish optimism\", 'Merry Christmas, Bitcoiners: $BTC Breaks $24,600 to Set a New All-Time High', 'OpenDAO Builds New Yield Dollar Interface on Top of UMA, Accepts BTC as Collateral | Press release', 'Bitcoin (BTC) Remains “Single Most Watched” Digital Asset with Ethereum Dominating DeFi throughout 2020: Report', '$1 Million Bitcoin Giveaway: Rapper Megan Thee Stallion Hands Out Free BTC on Twitter', 'Early Bitcoin dev misses out on $1.3B after selling too soon', 'BTC $20K & Beyond, FXCM CySec, AmEx Cyrpto, TFS-ICAP Fine: Editor’s Pick', 'Another day, another all-time high — Bitcoin hits $24K in weekend surge', 'Free2ex Launches New Contest to Guess the Price of BTC', 'Bitcoin Price Analysis: BTC bulls eye refreshing record top on the way to 24,000', 'Costly Mistake? Someone Paid 3.5 BTC Worth $80K To Transfer $1 on Bitcoin’s Network', 'Bitcoin Price Analysis: BTC Aim Fresh High Above $24,200', 'BTC/USD Forex Signal: More Bullish Movement', \"Bitcoin's limited supply doesn't really matter to one markets commentator\", '7 \"Best\" Bitcoin Games to Win BTC (2020)', 'After BTC, BJP grabs Tiwa Autonomous Council in Assam, wins 33 out of 36 seats', 'Record $6.5B Bitcoin options open interest follows BTC all-time high', \"Shark Tank's Mark Cuban Says Bitcoin Is a Store of Value but 'More Religion Than Solution to Any Problem'\", 'Bitcoin Pooling Platform Market: Know about Impact of Covid-19 by Top Companies like – AntPool, BTC.com, BTC.TOP, ViaBTC, F2Pool, and more', 'TA: Bitcoin Dips Below $23K, Why Buyers Are Still Comfortable', 'Bitcoin Readies for Another Attempt at Making New Highs', 'DeFi Tokens Take it Relatively Slow as Bitcoin Surges to $23,800, Prominent Investor Says Ethereum May Eventually Surpass BTC Market Cap: Report', 'Why is Bitcoin Heading Towards New Historical Maximums?', 'UK crypto exchange hackers steal Bitcoin (BTC), XRP, Tether (USDT), Ether (ETH), and ETC worth more than $10M', 'Bitcoin hits new all-time high above $23,000, extending its wild 2020 rally', 'Bitcoin Surpasses $21,000 for First Time Amid Dizzying Rally', \"Google Searches for 'Bitcoin Price' Hit 18-Month High - CoinDesk\", 'Microstrategy Buys 29,646 More Bitcoins — Now Holds Over $1.6 Billion in BTC | Markets and Prices']\nNegative_feedback Count : 66\n[\"Bitcoin FOMO? Tesla and these four stocks crushed BTC's gains in 2020\", 'BTC price rises 5% after US Congress passes ‘$900 billion ad for Bitcoin’', 'JPMorgan Warns of Bitcoin Correction, Describing BTC as Overbought | Markets and Prices', 'ALT 5 Sigma Digital Instrument Market Summary for BTC, ETH, LTC, BCH', 'Ethereum vs. Bitcoin: Do or die as Ether price drops to a critical level against BTC', 'Sivappa re-elected BTC chairman', 'XRP Crash Burns Other Crypto Asset Values, BTC Price Remains Unscathed | Market Updates', \"Scaramucci's SkyBridge BTC fund launches with $25 million investment\", \"Bitcoin Addresses Holding $1 Million Goes 'Parabolic,' 10% of BTC Supply Sits Idle for 10 Years\", 'Celebrity BTC scam ads tracked back to Moscow', 'Bitcoin dominance hits 1-year peak amid XRP sell-off as $24K briefly returns', 'Embattled BTC miner Layer1 CEO resigns in settlement with founders', 'OWNR Announces Its Cryptocurrency Wallet Turns into a Wholesome Ecosystem', 'Bitcoin (BTC) Reclaims $24,000 While Ethereum (ETH) Soars Above $620 In Marketwide Recovery', \"Real Estate Billionaire Sam Zell Skeptical of Bitcoin People but Says 'It May Be the Answer or One of the Answers' | Featured\", 'Gauhati HC orders floor test of BTC executive council before Dec 26', 'Reporter Recalls $200K BTC Sushi Dinner, Dev Sells 55,000 BTC for $30 a Coin | Featured', 'Around 600 BTC were moved from an Mt.Gox wallet raising fears of 150,000 Bitcoin dump', 'Bitcoin Price Around $23,000 As Another Nasdaq-Listed Firm Wants to Invest in $BTC', 'Learning how to make bet BTC - 1xBit', 'BTC/USD Forecast: Constriction After Massive Gains', 'Hagrama Mohilary urges all regional parties to join hands in BTC', 'Start the Christmas Cheer with 10 BTC Holiday Gifts at BitMart', 'We Have a Bitcoin (BTC) Supply Shortage - Pantera Capital CEO', 'Price analysis 12/18: BTC, ETH, XRP, LTC, BCH, LINK, ADA, DOT, BNB, XLM', '23rd December: BTC/USD Balancing between $23,000 and...', 'No BARTA Bus Service Christmas Day and other Service Changes', 'Think Bitcoin will hit $100K? These traders will take that bet', 'Bitcoin (BTC) Dips Below $23,000 Searching for a Bounce', 'Unity call to local parties for Bodoland Territorial Council', \"Bitcoin breaks records, what happens next, Coinbase IPO: Hodler's Digest, Dec. 13–19\", 'Ichimoku cloud analysis: BTC/USD, EUR/USD, USD/JPY', 'Bitcoin User Pays $80,000 Transaction Fee to Send Little Over $1 of BTC', 'NUTS Finance integrates RenVM to streamline BTC cross-chain exchange', 'Ichimoku cloud analysis: BTC/USD, EUR/USD, USD/CAD', 'BTC Smashes Through All-Time-High Past $24K', 'BTC Price Analysis: Bitcoin Consolidates After Weekly Correction, But Big Move Awaits - Where?', 'Gauhati HC orders ‘status quo’ on BTC executive council formation', 'Bitcoin’s Supply Liquidity Crisis is Extremely Bullish For BTC Price, Says Glassnode CTO', 'India: BTC/BTR Transition In Assam - Analysis', 'Previous Bitcoin Doubter Asks if Now Is the Time to Buy BTC', \"Bitcoin's (BTC) rising popularity not a threat to gold's status as currency of last resort, says Goldman Sachs\", 'BTC/USD Forecast: Bitcoin Acknowledging Gravity Again', 'BTC/USD Forex Signal: Pullback and Consolidation', 'Bitcoin Reaches $24,000 as Institutional Adoption Continues, Raoul Pal Predicts $1 Million Per Coin in 5 Years', 'Bitcoin vulnerable to the sell-off as technical and on-chain indicators turn bearish – Confluence...', 'Bitcoin (BTC) Is Less Volatile Than Tesla (TSLA) Stock Says CoinShares’ Analyst', 'Dangerous Dollar Fractal Could Bring Return Of Bear Phase To Bitcoin', 'Bitcoin, Stocks Nosedive Despite Incoming $900 Billion Stimulus', 'Bitcoin (BTC) Closes Last Hour Up $75.47; 2 Day Down Streak Broken, in an Uptrend Over Past 90 Days', 'Which Bitcoin Fund Should You Buy?', 'Bigtincan (ASX:BTH) buys ClearSlide for A$21.5M, raises $35M', 'Russian BTC-e operator Alexander Vinnik appeals 5-year prison sentence in Paris', 'Bitcoin (BTC) Price Near $22869.52; Heads Down For the 2nd Straight Day, in an Uptrend Over Past 14 Days', 'Bitcoin Fees Spike Almost 5X in One Week as BTC Reaches ATH', 'Coinbase Outperforms Bitfinex: What May Be Causing Its Ongoing Volume Growth?', 'US based Digital Asset Exchanges OKCoin and Coinbase Continue to Support Bitcoin Core Development', 'TA: Bitcoin Corrects, Why 100 SMA Could Trigger Another Leg Lower', 'Bitcoin Hits Highs Above $24k as LTC Touches $120, BCH, BNT Dec. 21', 'Former Bitcoin developer revealed that he lost 55000 BTC', 'Stampede of Bitcoin Buyers Pushed BTC Past $20K, Exchange Data Shows - CoinDesk', 'How this family survived 40 countries living solely off bitcoin for four years', 'Market Wrap: Bitcoin Lingers Around $19.4K While ETH/BTC Pairing Hits Bull Mode - CoinDesk', \"Bitcoin carnage, Eth2 milestone, Libra launch, PayPal blunder: Hodler's Digest, Nov. 21–27\", 'Market Wrap: Bitcoin Falls to $18.1K as Correlation to Ether Picks Up - CoinDesk', 'Bitcoin Era Review - Bitcoin ERA App Details By LynxPR']\n"
     ]
    }
   ],
   "source": [
    "headlines = googlenews.get_texts()\n",
    "\n",
    "feedbacks = headlines\n",
    "\n",
    "positive_feedbacks = []\n",
    "negative_feedbacks = []\n",
    "\n",
    "# polarity -1 < i < 1 indicates negative emotions\n",
    "# subjectivity -1 < j < 1 indicates positive emotions \n",
    "for feedback in feedbacks:\n",
    "  feedback_polarity = TextBlob(feedback).sentiment.polarity\n",
    "  if feedback_polarity>0:\n",
    "    positive_feedbacks.append(feedback)\n",
    "    continue\n",
    "  negative_feedbacks.append(feedback)\n",
    "  \n",
    "print('Positive_feebacks Count : {}'.format(len(positive_feedbacks)))\n",
    "print(positive_feedbacks)\n",
    "print('Negative_feedback Count : {}'.format(len(negative_feedbacks)))\n",
    "print(negative_feedbacks)"
   ]
  },
  {
   "cell_type": "code",
   "execution_count": 22,
   "metadata": {},
   "outputs": [
    {
     "output_type": "execute_result",
     "data": {
      "text/plain": [
       "<bound method GoogleNews.get_texts of <GoogleNews.GoogleNews object at 0x7f0a93b0f9d0>>"
      ]
     },
     "metadata": {},
     "execution_count": 22
    }
   ],
   "source": [
    "\n",
    "\n",
    "googlenews = GoogleNews()\n",
    "googlenews.search('BTC')\n",
    "x = googlenews.get_texts\n",
    "x"
   ]
  },
  {
   "cell_type": "code",
   "execution_count": 26,
   "metadata": {},
   "outputs": [
    {
     "output_type": "execute_result",
     "data": {
      "text/plain": [
       "                                               title               media  \\\n",
       "0                                           In-depth  The New York Times   \n",
       "1                                     By the numbers             EU News   \n",
       "2                                        For context  The New York Times   \n",
       "3                                         Interviews     FiveThirtyEight   \n",
       "4  Coronavirus in the U.S.: Latest Map and Case C...  The New York Times   \n",
       "\n",
       "           date   datetime                                               desc  \\\n",
       "0                      NaT                                                      \n",
       "1                      NaT                                                      \n",
       "2                      NaT                                                      \n",
       "3                      NaT                                                      \n",
       "4  Jul 20, 2020 2020-07-20  A detailed county map shows the extent of the ...   \n",
       "\n",
       "                                                link  \\\n",
       "0  https://www.nytimes.com/2020/12/18/opinion/sun...   \n",
       "1  https://www.ecdc.europa.eu/en/geographical-dis...   \n",
       "2  https://www.nytimes.com/2020/12/23/health/coro...   \n",
       "3  https://fivethirtyeight.com/videos/dr-fauci-on...   \n",
       "4  https://www.nytimes.com/interactive/2020/us/co...   \n",
       "\n",
       "                                                 img  \n",
       "0  data:image/gif;base64,R0lGODlhAQABAIAAAP//////...  \n",
       "1  data:image/gif;base64,R0lGODlhAQABAIAAAP//////...  \n",
       "2  data:image/gif;base64,R0lGODlhAQABAIAAAP//////...  \n",
       "3  data:image/gif;base64,R0lGODlhAQABAIAAAP//////...  \n",
       "4  data:image/gif;base64,R0lGODlhAQABAIAAAP//////...  "
      ],
      "text/html": "<div>\n<style scoped>\n    .dataframe tbody tr th:only-of-type {\n        vertical-align: middle;\n    }\n\n    .dataframe tbody tr th {\n        vertical-align: top;\n    }\n\n    .dataframe thead th {\n        text-align: right;\n    }\n</style>\n<table border=\"1\" class=\"dataframe\">\n  <thead>\n    <tr style=\"text-align: right;\">\n      <th></th>\n      <th>title</th>\n      <th>media</th>\n      <th>date</th>\n      <th>datetime</th>\n      <th>desc</th>\n      <th>link</th>\n      <th>img</th>\n    </tr>\n  </thead>\n  <tbody>\n    <tr>\n      <th>0</th>\n      <td>In-depth</td>\n      <td>The New York Times</td>\n      <td></td>\n      <td>NaT</td>\n      <td></td>\n      <td>https://www.nytimes.com/2020/12/18/opinion/sun...</td>\n      <td>data:image/gif;base64,R0lGODlhAQABAIAAAP//////...</td>\n    </tr>\n    <tr>\n      <th>1</th>\n      <td>By the numbers</td>\n      <td>EU News</td>\n      <td></td>\n      <td>NaT</td>\n      <td></td>\n      <td>https://www.ecdc.europa.eu/en/geographical-dis...</td>\n      <td>data:image/gif;base64,R0lGODlhAQABAIAAAP//////...</td>\n    </tr>\n    <tr>\n      <th>2</th>\n      <td>For context</td>\n      <td>The New York Times</td>\n      <td></td>\n      <td>NaT</td>\n      <td></td>\n      <td>https://www.nytimes.com/2020/12/23/health/coro...</td>\n      <td>data:image/gif;base64,R0lGODlhAQABAIAAAP//////...</td>\n    </tr>\n    <tr>\n      <th>3</th>\n      <td>Interviews</td>\n      <td>FiveThirtyEight</td>\n      <td></td>\n      <td>NaT</td>\n      <td></td>\n      <td>https://fivethirtyeight.com/videos/dr-fauci-on...</td>\n      <td>data:image/gif;base64,R0lGODlhAQABAIAAAP//////...</td>\n    </tr>\n    <tr>\n      <th>4</th>\n      <td>Coronavirus in the U.S.: Latest Map and Case C...</td>\n      <td>The New York Times</td>\n      <td>Jul 20, 2020</td>\n      <td>2020-07-20</td>\n      <td>A detailed county map shows the extent of the ...</td>\n      <td>https://www.nytimes.com/interactive/2020/us/co...</td>\n      <td>data:image/gif;base64,R0lGODlhAQABAIAAAP//////...</td>\n    </tr>\n  </tbody>\n</table>\n</div>"
     },
     "metadata": {},
     "execution_count": 26
    }
   ],
   "source": [
    "googlenews=GoogleNews(start='07/01/2020',end='07/31/2020')\n",
    "googlenews.search('Coronavirus')\n",
    "result=googlenews.result()\n",
    "df=pd.DataFrame(result)\n",
    "df.head()"
   ]
  },
  {
   "cell_type": "code",
   "execution_count": 27,
   "metadata": {},
   "outputs": [
    {
     "output_type": "execute_result",
     "data": {
      "text/plain": [
       "\"https://news.google.com/__i/rss/rd/articles/CBMiPWh0dHBzOi8vd3d3LmZveG5ld3MuY29tL3VzL21vZGVybmEtY292aWQtdmFjY2luZS1zaWRlLWVmZmVjdHPSAUFodHRwczovL3d3dy5mb3huZXdzLmNvbS91cy9tb2Rlcm5hLWNvdmlkLXZhY2NpbmUtc2lkZS1lZmZlY3RzLmFtcA?oc=5\" target=\"_blank\">Moderna COVID vaccine has caused side effect for those with cosmetic facial fillers</a>&nbsp;&nbsp;<font color=\"#6f6f6f\">Fox News</font></li><li><a href=\"https://news.google.com/__i/rss/rd/articles/CBMiK2h0dHBzOi8vd3d3LnlvdXR1YmUuY29tL3dhdGNoP3Y9R1lnUl9OcXBha1XSAQA?oc=5\" target=\"_blank\">Should pregnant women be getting the COVID-19 vaccine?</a>&nbsp;&nbsp;<font color=\"#6f6f6f\">News4JAX</font></li><li><a href=\"https://news.google.com/__i/rss/rd/articles/CBMifmh0dHBzOi8vbmV3czRzYW5hbnRvbmlvLmNvbS9uZXdzL2xvY2FsL3dlLWFyZS1maWdodGluZy1iYWNrLWhlYWx0aC1jYXJlLXdvcmtlcnMtcmVjZWl2aW5nLXZhY2NpbmVzLWxvb2stZm9yd2FyZC10by1lbmQtb2YtMjAyMNIBggFodHRwczovL25ld3M0c2FuYW50b25pby5jb20vYW1wL25ld3MvbG9jYWwvd2UtYXJlLWZpZ2h0aW5nLWJhY2staGVhbHRoLWNhcmUtd29ya2Vycy1yZWNlaXZpbmctdmFjY2luZXMtbG9vay1mb3J3YXJkLXRvLWVuZC1vZi0yMDIw?oc=5\" target=\"_blank\">\\'We are fighting back,\\' Health care workers receiving vaccines look forward to end of 2020</a>&nbsp;&nbsp;<font color=\"#6f6f6f\">WOAI</font></li><li><a href=\"https://news.google.com/__i/rss/rd/articles/CBMid2h0dHBzOi8vc2Zpc3QuY29tLzIwMjAvMTIvMjQvdGVhY2hlcnMtcG9saWNlLWFuZC1mb29kLXNlcnZpY2Utd29ya2Vycy1jb3VsZC1iZS1uZXh0LXRvLWdldC1jb3ZpZC12YWNjaW5lLWluLWNhbGlmb3JuaWEv0gEA?oc=5\" target=\"_blank\">Teachers, Police, and Food Service Workers Could Be Next to Get COVID Vaccine in California</a>&nbsp;&nbsp;<font color=\"#6f6f6f\">SFist</font></li><li><strong><a href=\"https://news.google.com/stories/CAAqOQgKIjNDQklTSURvSmMzUnZjbmt0TXpZd1NoTUtFUWlVbGJqRmtZQU1FY1NyUDczb3k2UGtLQUFQAQ?oc=5\" target=\"_blank\">View Full Coverage on Google News</a></strong></li></ol>'},\n",
       "   'source': {'href': 'https://www.tmz.com', 'title': 'TMZ'},\n",
       "   'sub_articles': [{'url': 'https://news.google.com/__i/rss/rd/articles/CBMiYWh0dHBzOi8vd3d3LnRtei5jb20vMjAyMC8xMi8yNS9tb2Rlcm5hLXZhY2NpbmUtbWF5LWNhdXNlLXNpZGUtZWZmZWN0LWZhY2UtZmlsbGVycy1saXBzLWluamVjdGlvbi_SAWFodHRwczovL2FtcC50bXouY29tLzIwMjAvMTIvMjUvbW9kZXJuYS12YWNjaW5lLW1heS1jYXVzZS1zaWRlLWVmZmVjdC1mYWNlLWZpbGxlcnMtbGlwcy1pbmplY3Rpb24v?oc=5',\n",
       "     'title': 'Moderna Vaccine Side Effects, Swelling in Patients with Cosmetic Facial Fillers',\n",
       "     'publisher': 'TMZ'},\n",
       "    {'url': 'https://news.google.com/__i/rss/rd/articles/CBMiPWh0dHBzOi8vd3d3LmZveG5ld3MuY29tL3VzL21vZGVybmEtY292aWQtdmFjY2luZS1zaWRlLWVmZmVjdHPSAUFodHRwczovL3d3dy5mb3huZXdzLmNvbS91cy9tb2Rlcm5hLWNvdmlkLXZhY2NpbmUtc2lkZS1lZmZlY3RzLmFtcA?oc=5',\n",
       "     'title': 'Moderna COVID vaccine has caused side effect for those with cosmetic facial fillers',\n",
       "     'publisher': 'Fox News'},\n",
       "    {'url': 'https://news.google.com/__i/rss/rd/articles/CBMiK2h0dHBzOi8vd3d3LnlvdXR1YmUuY29tL3dhdGNoP3Y9R1lnUl9OcXBha1XSAQA?oc=5',\n",
       "     'title': 'Should pregnant women be getting the COVID-19 vaccine?',\n",
       "     'publisher': 'News4JAX'},\n",
       "    {'url': 'https://news.google.com/__i/rss/rd/articles/CBMifmh0dHBzOi8vbmV3czRzYW5hbnRvbmlvLmNvbS9uZXdzL2xvY2FsL3dlLWFyZS1maWdodGluZy1iYWNrLWhlYWx0aC1jYXJlLXdvcmtlcnMtcmVjZWl2aW5nLXZhY2NpbmVzLWxvb2stZm9yd2FyZC10by1lbmQtb2YtMjAyMNIBggFodHRwczovL25ld3M0c2FuYW50b25pby5jb20vYW1wL25ld3MvbG9jYWwvd2UtYXJlLWZpZ2h0aW5nLWJhY2staGVhbHRoLWNhcmUtd29ya2Vycy1yZWNlaXZpbmctdmFjY2luZXMtbG9vay1mb3J3YXJkLXRvLWVuZC1vZi0yMDIw?oc=5',\n",
       "     'title': \"'We are fighting back,' Health care workers receiving vaccines look forward to end of 2020\",\n",
       "     'publisher': 'WOAI'},\n",
       "    {'url': 'https://news.google.com/__i/rss/rd/articles/CBMid2h0dHBzOi8vc2Zpc3QuY29tLzIwMjAvMTIvMjQvdGVhY2hlcnMtcG9saWNlLWFuZC1mb29kLXNlcnZpY2Utd29ya2Vycy1jb3VsZC1iZS1uZXh0LXRvLWdldC1jb3ZpZC12YWNjaW5lLWluLWNhbGlmb3JuaWEv0gEA?oc=5',\n",
       "     'title': 'Teachers, Police, and Food Service Workers Could Be Next to Get COVID Vaccine in California',\n",
       "     'publisher': 'SFist'}]},\n",
       "  {'title': 'Maine CDC reports 321 new cases of COVID-19, 2 new deaths - WMTW Portland',\n",
       "   'title_detail': {'type': 'text/plain',\n",
       "    'language': None,\n",
       "    'base': '',\n",
       "    'value': 'Maine CDC reports 321 new cases of COVID-19, 2 new deaths - WMTW Portland'},\n",
       "   'links': [{'rel': 'alternate',\n",
       "     'type': 'text/html',\n",
       "     'href': 'https://news.google.com/__i/rss/rd/articles/CBMiXmh0dHBzOi8vd3d3LndtdHcuY29tL2FydGljbGUvbWFpbmUtY2RjLXJlcG9ydHMtMzIxLW5ldy1jYXNlcy1vZi1jb3ZpZC0xOS0yLW5ldy1kZWF0aHMvMzUwNzIxMTPSAWJodHRwczovL3d3dy53bXR3LmNvbS9hbXAvYXJ0aWNsZS9tYWluZS1jZGMtcmVwb3J0cy0zMjEtbmV3LWNhc2VzLW9mLWNvdmlkLTE5LTItbmV3LWRlYXRocy8zNTA3MjExMw?oc=5'}],\n",
       "   'link': 'https://news.google.com/__i/rss/rd/articles/CBMiXmh0dHBzOi8vd3d3LndtdHcuY29tL2FydGljbGUvbWFpbmUtY2RjLXJlcG9ydHMtMzIxLW5ldy1jYXNlcy1vZi1jb3ZpZC0xOS0yLW5ldy1kZWF0aHMvMzUwNzIxMTPSAWJodHRwczovL3d3dy53bXR3LmNvbS9hbXAvYXJ0aWNsZS9tYWluZS1jZGMtcmVwb3J0cy0zMjEtbmV3LWNhc2VzLW9mLWNvdmlkLTE5LTItbmV3LWRlYXRocy8zNTA3MjExMw?oc=5',\n",
       "   'id': '52781259676200',\n",
       "   'guidislink': False,\n",
       "   'published': 'Fri, 25 Dec 2020 14:54:00 GMT',\n",
       "   'published_parsed': time.struct_time(tm_year=2020, tm_mon=12, tm_mday=25, tm_hour=14, tm_min=54, tm_sec=0, tm_wday=4, tm_yday=360, tm_isdst=0),\n",
       "   'summary': '<ol><li><a href=\"https://news.google.com/__i/rss/rd/articles/CBMiXmh0dHBzOi8vd3d3LndtdHcuY29tL2FydGljbGUvbWFpbmUtY2RjLXJlcG9ydHMtMzIxLW5ldy1jYXNlcy1vZi1jb3ZpZC0xOS0yLW5ldy1kZWF0aHMvMzUwNzIxMTPSAWJodHRwczovL3d3dy53bXR3LmNvbS9hbXAvYXJ0aWNsZS9tYWluZS1jZGMtcmVwb3J0cy0zMjEtbmV3LWNhc2VzLW9mLWNvdmlkLTE5LTItbmV3LWRlYXRocy8zNTA3MjExMw?oc=5\" target=\"_blank\">Maine CDC reports 321 new cases of COVID-19, 2 new deaths</a>&nbsp;&nbsp;<font color=\"#6f6f6f\">WMTW Portland</font></li><li><a href=\"https://news.google.com/__i/rss/rd/articles/CBMiaWh0dHBzOi8vd3d3LnByZXNzaGVyYWxkLmNvbS8yMDIwLzEyLzI1L21haW5lLXJlcG9ydHMtYW5vdGhlci0zMjEtY2FzZXMtb2YtY292aWQtMTktdHdvLWFkZGl0aW9uYWwtZGVhdGhzL9IBAA?oc=5\" target=\"_blank\">Maine reports another 321 cases of COVID-19, two additional deaths</a>&nbsp;&nbsp;<font color=\"#6f6f6f\">Press Herald</font></li><li><a href=\"https://news.google.com/__i/rss/rd/articles/CBMihwFodHRwczovL2JhbmdvcmRhaWx5bmV3cy5jb20vMjAyMC8xMi8yNS9uZXdzLzItbW9yZS1tYWluZXJzLWRpZS1hcy0zMjEtbmV3LWNvcm9uYXZpcnVzLWNhc2VzLWFyZS1yZXBvcnRlZC1hY3Jvc3MtdGhlLXN0YXRlLTB2em9hOW41MDd3bi_SAQA?oc=5\" target=\"_blank\">2 more Mainers die as 321 new coronavirus cases are reported across the state</a>&nbsp;&nbsp;<font color=\"#6f6f6f\">Bangor Daily News</font></li><li><a href=\"https://news.google.com/__i/rss/rd/articles/CBMiV2h0dHBzOi8vd3d3LndhYmkudHYvMjAyMC8xMi8yNS8zMjEtbmV3bHktcmVjb3JkZWQtY292aWQtMTktY2FzZXMtaW4tbWFpbmUtMi1uZXctZGVhdGhzL9IBAA?oc=5\" target=\"_blank\">321 newly recorded COVID-19 cases in Maine, 2 new deaths</a>&nbsp;&nbsp;<font color=\"#6f6f6f\">WABI</font></li><li><a href=\"https://news.google.com/__i/rss/rd/articles/CBMiZmh0dHBzOi8vd3d3LnByZXNzaGVyYWxkLmNvbS8yMDIwLzEyLzI0L21haW5lLWNkYy1yZXBvcnRzLTczNS1uZXctY292aWQtMTktY2FzZXMtc2l4LWFkZGl0aW9uYWwtZGVhdGhzL9IBAA?oc=5\" target=\"_blank\">Maine CDC reports 735 new COVID-19 cases, 6 additional deaths</a>&nbsp;&nbsp;<font color=\"#6f6f6f\">Press Herald</font></li><li><strong><a href=\"https://news.google.com/stories/CAAqOQgKIjNDQklTSURvSmMzUnZjbmt0TXpZd1NoTUtFUWlvdE9fQmtZQU1FZkxZdjFzbGFORWlLQUFQAQ?oc=5\" target=\"_blank\">View Full Coverage on Google News</a></strong></li></ol>',\n",
       "   'summary_detail': {'type': 'text/html',\n",
       "    'language': None,\n",
       "    'base': '',\n",
       "    'value': '<ol><li><a href=\"https://news.google.com/__i/rss/rd/articles/CBMiXmh0dHBzOi8vd3d3LndtdHcuY29tL2FydGljbGUvbWFpbmUtY2RjLXJlcG9ydHMtMzIxLW5ldy1jYXNlcy1vZi1jb3ZpZC0xOS0yLW5ldy1kZWF0aHMvMzUwNzIxMTPSAWJodHRwczovL3d3dy53bXR3LmNvbS9hbXAvYXJ0aWNsZS9tYWluZS1jZGMtcmVwb3J0cy0zMjEtbmV3LWNhc2VzLW9mLWNvdmlkLTE5LTItbmV3LWRlYXRocy8zNTA3MjExMw?oc=5\" target=\"_blank\">Maine CDC reports 321 new cases of COVID-19, 2 new deaths</a>&nbsp;&nbsp;<font color=\"#6f6f6f\">WMTW Portland</font></li><li><a href=\"https://news.google.com/__i/rss/rd/articles/CBMiaWh0dHBzOi8vd3d3LnByZXNzaGVyYWxkLmNvbS8yMDIwLzEyLzI1L21haW5lLXJlcG9ydHMtYW5vdGhlci0zMjEtY2FzZXMtb2YtY292aWQtMTktdHdvLWFkZGl0aW9uYWwtZGVhdGhzL9IBAA?oc=5\" target=\"_blank\">Maine reports another 321 cases of COVID-19, two additional deaths</a>&nbsp;&nbsp;<font color=\"#6f6f6f\">Press Herald</font></li><li><a href=\"https://news.google.com/__i/rss/rd/articles/CBMihwFodHRwczovL2JhbmdvcmRhaWx5bmV3cy5jb20vMjAyMC8xMi8yNS9uZXdzLzItbW9yZS1tYWluZXJzLWRpZS1hcy0zMjEtbmV3LWNvcm9uYXZpcnVzLWNhc2VzLWFyZS1yZXBvcnRlZC1hY3Jvc3MtdGhlLXN0YXRlLTB2em9hOW41MDd3bi_SAQA?oc=5\" target=\"_blank\">2 more Mainers die as 321 new coronavirus cases are reported across the state</a>&nbsp;&nbsp;<font color=\"#6f6f6f\">Bangor Daily News</font></li><li><a href=\"https://news.google.com/__i/rss/rd/articles/CBMiV2h0dHBzOi8vd3d3LndhYmkudHYvMjAyMC8xMi8yNS8zMjEtbmV3bHktcmVjb3JkZWQtY292aWQtMTktY2FzZXMtaW4tbWFpbmUtMi1uZXctZGVhdGhzL9IBAA?oc=5\" target=\"_blank\">321 newly recorded COVID-19 cases in Maine, 2 new deaths</a>&nbsp;&nbsp;<font color=\"#6f6f6f\">WABI</font></li><li><a href=\"https://news.google.com/__i/rss/rd/articles/CBMiZmh0dHBzOi8vd3d3LnByZXNzaGVyYWxkLmNvbS8yMDIwLzEyLzI0L21haW5lLWNkYy1yZXBvcnRzLTczNS1uZXctY292aWQtMTktY2FzZXMtc2l4LWFkZGl0aW9uYWwtZGVhdGhzL9IBAA?oc=5\" target=\"_blank\">Maine CDC reports 735 new COVID-19 cases, 6 additional deaths</a>&nbsp;&nbsp;<font color=\"#6f6f6f\">Press Herald</font></li><li><strong><a href=\"https://news.google.com/stories/CAAqOQgKIjNDQklTSURvSmMzUnZjbmt0TXpZd1NoTUtFUWlvdE9fQmtZQU1FZkxZdjFzbGFORWlLQUFQAQ?oc=5\" target=\"_blank\">View Full Coverage on Google News</a></strong></li></ol>'},\n",
       "   'source': {'href': 'https://www.wmtw.com', 'title': 'WMTW Portland'},\n",
       "   'sub_articles': [{'url': 'https://news.google.com/__i/rss/rd/articles/CBMiXmh0dHBzOi8vd3d3LndtdHcuY29tL2FydGljbGUvbWFpbmUtY2RjLXJlcG9ydHMtMzIxLW5ldy1jYXNlcy1vZi1jb3ZpZC0xOS0yLW5ldy1kZWF0aHMvMzUwNzIxMTPSAWJodHRwczovL3d3dy53bXR3LmNvbS9hbXAvYXJ0aWNsZS9tYWluZS1jZGMtcmVwb3J0cy0zMjEtbmV3LWNhc2VzLW9mLWNvdmlkLTE5LTItbmV3LWRlYXRocy8zNTA3MjExMw?oc=5',\n",
       "     'title': 'Maine CDC reports 321 new cases of COVID-19, 2 new deaths',\n",
       "     'publisher': 'WMTW Portland'},\n",
       "    {'url': 'https://news.google.com/__i/rss/rd/articles/CBMiaWh0dHBzOi8vd3d3LnByZXNzaGVyYWxkLmNvbS8yMDIwLzEyLzI1L21haW5lLXJlcG9ydHMtYW5vdGhlci0zMjEtY2FzZXMtb2YtY292aWQtMTktdHdvLWFkZGl0aW9uYWwtZGVhdGhzL9IBAA?oc=5',\n",
       "     'title': 'Maine reports another 321 cases of COVID-19, two additional deaths',\n",
       "     'publisher': 'Press Herald'},\n",
       "    {'url': 'https://news.google.com/__i/rss/rd/articles/CBMihwFodHRwczovL2JhbmdvcmRhaWx5bmV3cy5jb20vMjAyMC8xMi8yNS9uZXdzLzItbW9yZS1tYWluZXJzLWRpZS1hcy0zMjEtbmV3LWNvcm9uYXZpcnVzLWNhc2VzLWFyZS1yZXBvcnRlZC1hY3Jvc3MtdGhlLXN0YXRlLTB2em9hOW41MDd3bi_SAQA?oc=5',\n",
       "     'title': '2 more Mainers die as 321 new coronavirus cases are reported across the state',\n",
       "     'publisher': 'Bangor Daily News'},\n",
       "    {'url': 'https://news.google.com/__i/rss/rd/articles/CBMiV2h0dHBzOi8vd3d3LndhYmkudHYvMjAyMC8xMi8yNS8zMjEtbmV3bHktcmVjb3JkZWQtY292aWQtMTktY2FzZXMtaW4tbWFpbmUtMi1uZXctZGVhdGhzL9IBAA?oc=5',\n",
       "     'title': '321 newly recorded COVID-19 cases in Maine, 2 new deaths',\n",
       "     'publisher': 'WABI'},\n",
       "    {'url': 'https://news.google.com/__i/rss/rd/articles/CBMiZmh0dHBzOi8vd3d3LnByZXNzaGVyYWxkLmNvbS8yMDIwLzEyLzI0L21haW5lLWNkYy1yZXBvcnRzLTczNS1uZXctY292aWQtMTktY2FzZXMtc2l4LWFkZGl0aW9uYWwtZGVhdGhzL9IBAA?oc=5',\n",
       "     'title': 'Maine CDC reports 735 new COVID-19 cases, 6 additional deaths',\n",
       "     'publisher': 'Press Herald'}]},\n",
       "  {'title': 'Arizona reports 6,616 new coronavirus cases, 115 more deaths - KTAR.com',\n",
       "   'title_detail': {'type': 'text/plain',\n",
       "    'language': None,\n",
       "    'base': '',\n",
       "    'value': 'Arizona reports 6,616 new coronavirus cases, 115 more deaths - KTAR.com'},\n",
       "   'links': [{'rel': 'alternate',\n",
       "     'type': 'text/html',\n",
       "     'href': 'https://news.google.com/__i/rss/rd/articles/CBMiWmh0dHBzOi8va3Rhci5jb20vc3RvcnkvMzc3MTc2Mi9hcml6b25hLXJlcG9ydHMtNjYxNi1uZXctY29yb25hdmlydXMtY2FzZXMtMTE1LW1vcmUtZGVhdGhzL9IBXmh0dHBzOi8va3Rhci5jb20vc3RvcnkvMzc3MTc2Mi9hcml6b25hLXJlcG9ydHMtNjYxNi1uZXctY29yb25hdmlydXMtY2FzZXMtMTE1LW1vcmUtZGVhdGhzL2FtcC8?oc=5'}],\n",
       "   'link': 'https://news.google.com/__i/rss/rd/articles/CBMiWmh0dHBzOi8va3Rhci5jb20vc3RvcnkvMzc3MTc2Mi9hcml6b25hLXJlcG9ydHMtNjYxNi1uZXctY29yb25hdmlydXMtY2FzZXMtMTE1LW1vcmUtZGVhdGhzL9IBXmh0dHBzOi8va3Rhci5jb20vc3RvcnkvMzc3MTc2Mi9hcml6b25hLXJlcG9ydHMtNjYxNi1uZXctY29yb25hdmlydXMtY2FzZXMtMTE1LW1vcmUtZGVhdGhzL2FtcC8?oc=5',\n",
       "   'id': '52781260056149',\n",
       "   'guidislink': False,\n",
       "   'published': 'Fri, 25 Dec 2020 15:24:00 GMT',\n",
       "   'published_parsed': time.struct_time(tm_year=2020, tm_mon=12, tm_mday=25, tm_hour=15, tm_min=24, tm_sec=0, tm_wday=4, tm_yday=360, tm_isdst=0),\n",
       "   'summary': '<ol><li><a href=\"https://news.google.com/__i/rss/rd/articles/CBMiWmh0dHBzOi8va3Rhci5jb20vc3RvcnkvMzc3MTc2Mi9hcml6b25hLXJlcG9ydHMtNjYxNi1uZXctY29yb25hdmlydXMtY2FzZXMtMTE1LW1vcmUtZGVhdGhzL9IBXmh0dHBzOi8va3Rhci5jb20vc3RvcnkvMzc3MTc2Mi9hcml6b25hLXJlcG9ydHMtNjYxNi1uZXctY29yb25hdmlydXMtY2FzZXMtMTE1LW1vcmUtZGVhdGhzL2FtcC8?oc=5\" target=\"_blank\">Arizona reports 6,616 new coronavirus cases, 115 more deaths</a>&nbsp;&nbsp;<font color=\"#6f6f6f\">KTAR.com</font></li><li><a href=\"https://news.google.com/__i/rss/rd/articles/CBMiPWh0dHBzOi8vd3d3LnNhY2JlZS5jb20vbmV3cy9jb3JvbmF2aXJ1cy9hcnRpY2xlMjQ4MDgxMTIwLmh0bWzSAT1odHRwczovL2FtcC5zYWNiZWUuY29tL25ld3MvY29yb25hdmlydXMvYXJ0aWNsZTI0ODA4MTEyMC5odG1s?oc=5\" target=\"_blank\">‘They left the field together.’ Coach, wife and mom die of COVID, Arizona family says</a>&nbsp;&nbsp;<font color=\"#6f6f6f\">Sacramento Bee</font></li><li><a href=\"https://news.google.com/__i/rss/rd/articles/CBMilwFodHRwczovL3d3dy5hemNlbnRyYWwuY29tL3N0b3J5L25ld3MvbG9jYWwvYXJpem9uYS1oZWFsdGgvMjAyMC8xMi8yNC9hcml6b25hLWNvcm9uYXZpcnVzLWRlYy0yNC11cGRhdGUtNy0wNDYtbmV3LWNhc2VzLTExNS1uZXcta25vd24tZGVhdGhzLzQwMzg4MDYwMDEv0gEoaHR0cHM6Ly9hbXAuYXpjZW50cmFsLmNvbS9hbXAvNDAzODgwNjAwMQ?oc=5\" target=\"_blank\">Arizona has 7% of ICU beds available as state reports more than 7,000 new COVID-19 cases, 115 deaths</a>&nbsp;&nbsp;<font color=\"#6f6f6f\">The Arizona Republic</font></li><li><a href=\"https://news.google.com/__i/rss/rd/articles/CBMiYWh0dHBzOi8vd3d3LmFiYzE1LmNvbS9uZXdzL2Nvcm9uYXZpcnVzL3N0YXRlLWFsbC1hcml6b25hLWNvdW50aWVzLXNlZWluZy1zdWJzdGFudGlhbC12aXJ1cy1zcHJlYWTSAWtodHRwczovL3d3dy5hYmMxNS5jb20vbmV3cy9jb3JvbmF2aXJ1cy9zdGF0ZS1hbGwtYXJpem9uYS1jb3VudGllcy1zZWVpbmctc3Vic3RhbnRpYWwtdmlydXMtc3ByZWFkP19hbXA9dHJ1ZQ?oc=5\" target=\"_blank\">State: All Arizona counties seeing substantial virus spread</a>&nbsp;&nbsp;<font color=\"#6f6f6f\">ABC15 Arizona</font></li><li><a href=\"https://news.google.com/__i/rss/rd/articles/CBMiU2h0dHBzOi8vd3d3LmtvbGQuY29tLzIwMjAvMTIvMjQvZmFtaWx5LWxvc2VzLWxvdmVkLW9uZXMtdmlydXMtbGVzcy10aGFuLXdlZWtzLWFyaXov0gFiaHR0cHM6Ly93d3cua29sZC5jb20vMjAyMC8xMi8yNC9mYW1pbHktbG9zZXMtbG92ZWQtb25lcy12aXJ1cy1sZXNzLXRoYW4td2Vla3MtYXJpei8_b3V0cHV0VHlwZT1hbXA?oc=5\" target=\"_blank\">Family loses 3 loved ones to virus in less than 3 weeks in Ariz.</a>&nbsp;&nbsp;<font color=\"#6f6f6f\">KOLD</font></li><li><strong><a href=\"https://news.google.com/stories/CAAqOQgKIjNDQklTSURvSmMzUnZjbmt0TXpZd1NoTUtFUWpWekliQ2tZQU1FZXNkT0ZpZi12d2JLQUFQAQ?oc=5\" target=\"_blank\">View Full Coverage on Google News</a></strong></li></ol>',\n",
       "   'summary_detail': {'type': 'text/html',\n",
       "    'language': None,\n",
       "    'base': '',\n",
       "    'value': '<ol><li><a href=\"https://news.google.com/__i/rss/rd/articles/CBMiWmh0dHBzOi8va3Rhci5jb20vc3RvcnkvMzc3MTc2Mi9hcml6b25hLXJlcG9ydHMtNjYxNi1uZXctY29yb25hdmlydXMtY2FzZXMtMTE1LW1vcmUtZGVhdGhzL9IBXmh0dHBzOi8va3Rhci5jb20vc3RvcnkvMzc3MTc2Mi9hcml6b25hLXJlcG9ydHMtNjYxNi1uZXctY29yb25hdmlydXMtY2FzZXMtMTE1LW1vcmUtZGVhdGhzL2FtcC8?oc=5\" target=\"_blank\">Arizona reports 6,616 new coronavirus cases, 115 more deaths</a>&nbsp;&nbsp;<font color=\"#6f6f6f\">KTAR.com</font></li><li><a href=\"https://news.google.com/__i/rss/rd/articles/CBMiPWh0dHBzOi8vd3d3LnNhY2JlZS5jb20vbmV3cy9jb3JvbmF2aXJ1cy9hcnRpY2xlMjQ4MDgxMTIwLmh0bWzSAT1odHRwczovL2FtcC5zYWNiZWUuY29tL25ld3MvY29yb25hdmlydXMvYXJ0aWNsZTI0ODA4MTEyMC5odG1s?oc=5\" target=\"_blank\">‘They left the field together.’ Coach, wife and mom die of COVID, Arizona family says</a>&nbsp;&nbsp;<font color=\"#6f6f6f\">Sacramento Bee</font></li><li><a href=\"https://news.google.com/__i/rss/rd/articles/CBMilwFodHRwczovL3d3dy5hemNlbnRyYWwuY29tL3N0b3J5L25ld3MvbG9jYWwvYXJpem9uYS1oZWFsdGgvMjAyMC8xMi8yNC9hcml6b25hLWNvcm9uYXZpcnVzLWRlYy0yNC11cGRhdGUtNy0wNDYtbmV3LWNhc2VzLTExNS1uZXcta25vd24tZGVhdGhzLzQwMzg4MDYwMDEv0gEoaHR0cHM6Ly9hbXAuYXpjZW50cmFsLmNvbS9hbXAvNDAzODgwNjAwMQ?oc=5\" target=\"_blank\">Arizona has 7% of ICU beds available as state reports more than 7,000 new COVID-19 cases, 115 deaths</a>&nbsp;&nbsp;<font color=\"#6f6f6f\">The Arizona Republic</font></li><li><a href=\"https://news.google.com/__i/rss/rd/articles/CBMiYWh0dHBzOi8vd3d3LmFiYzE1LmNvbS9uZXdzL2Nvcm9uYXZpcnVzL3N0YXRlLWFsbC1hcml6b25hLWNvdW50aWVzLXNlZWluZy1zdWJzdGFudGlhbC12aXJ1cy1zcHJlYWTSAWtodHRwczovL3d3dy5hYmMxNS5jb20vbmV3cy9jb3JvbmF2aXJ1cy9zdGF0ZS1hbGwtYXJpem9uYS1jb3VudGllcy1zZWVpbmctc3Vic3RhbnRpYWwtdmlydXMtc3ByZWFkP19hbXA9dHJ1ZQ?oc=5\" target=\"_blank\">State: All Arizona counties seeing substantial virus spread</a>&nbsp;&nbsp;<font color=\"#6f6f6f\">ABC15 Arizona</font></li><li><a href=\"https://news.google.com/__i/rss/rd/articles/CBMiU2h0dHBzOi8vd3d3LmtvbGQuY29tLzIwMjAvMTIvMjQvZmFtaWx5LWxvc2VzLWxvdmVkLW9uZXMtdmlydXMtbGVzcy10aGFuLXdlZWtzLWFyaXov0gFiaHR0cHM6Ly93d3cua29sZC5jb20vMjAyMC8xMi8yNC9mYW1pbHktbG9zZXMtbG92ZWQtb25lcy12aXJ1cy1sZXNzLXRoYW4td2Vla3MtYXJpei8_b3V0cHV0VHlwZT1hbXA?oc=5\" target=\"_blank\">Family loses 3 loved ones to virus in less than 3 weeks in Ariz.</a>&nbsp;&nbsp;<font color=\"#6f6f6f\">KOLD</font></li><li><strong><a href=\"https://news.google.com/stories/CAAqOQgKIjNDQklTSURvSmMzUnZjbmt0TXpZd1NoTUtFUWpWekliQ2tZQU1FZXNkT0ZpZi12d2JLQUFQAQ?oc=5\" target=\"_blank\">View Full Coverage on Google News</a></strong></li></ol>'},\n",
       "   'source': {'href': 'https://ktar.com', 'title': 'KTAR.com'},\n",
       "   'sub_articles': [{'url': 'https://news.google.com/__i/rss/rd/articles/CBMiWmh0dHBzOi8va3Rhci5jb20vc3RvcnkvMzc3MTc2Mi9hcml6b25hLXJlcG9ydHMtNjYxNi1uZXctY29yb25hdmlydXMtY2FzZXMtMTE1LW1vcmUtZGVhdGhzL9IBXmh0dHBzOi8va3Rhci5jb20vc3RvcnkvMzc3MTc2Mi9hcml6b25hLXJlcG9ydHMtNjYxNi1uZXctY29yb25hdmlydXMtY2FzZXMtMTE1LW1vcmUtZGVhdGhzL2FtcC8?oc=5',\n",
       "     'title': 'Arizona reports 6,616 new coronavirus cases, 115 more deaths',\n",
       "     'publisher': 'KTAR.com'},\n",
       "    {'url': 'https://news.google.com/__i/rss/rd/articles/CBMiPWh0dHBzOi8vd3d3LnNhY2JlZS5jb20vbmV3cy9jb3JvbmF2aXJ1cy9hcnRpY2xlMjQ4MDgxMTIwLmh0bWzSAT1odHRwczovL2FtcC5zYWNiZWUuY29tL25ld3MvY29yb25hdmlydXMvYXJ0aWNsZTI0ODA4MTEyMC5odG1s?oc=5',\n",
       "     'title': '‘They left the field together.’ Coach, wife and mom die of COVID, Arizona family says',\n",
       "     'publisher': 'Sacramento Bee'},\n",
       "    {'url': 'https://news.google.com/__i/rss/rd/articles/CBMilwFodHRwczovL3d3dy5hemNlbnRyYWwuY29tL3N0b3J5L25ld3MvbG9jYWwvYXJpem9uYS1oZWFsdGgvMjAyMC8xMi8yNC9hcml6b25hLWNvcm9uYXZpcnVzLWRlYy0yNC11cGRhdGUtNy0wNDYtbmV3LWNhc2VzLTExNS1uZXcta25vd24tZGVhdGhzLzQwMzg4MDYwMDEv0gEoaHR0cHM6Ly9hbXAuYXpjZW50cmFsLmNvbS9hbXAvNDAzODgwNjAwMQ?oc=5',\n",
       "     'title': 'Arizona has 7% of ICU beds available as state reports more than 7,000 new COVID-19 cases, 115 deaths',\n",
       "     'publisher': 'The Arizona Republic'},\n",
       "    {'url': 'https://news.google.com/__i/rss/rd/articles/CBMiYWh0dHBzOi8vd3d3LmFiYzE1LmNvbS9uZXdzL2Nvcm9uYXZpcnVzL3N0YXRlLWFsbC1hcml6b25hLWNvdW50aWVzLXNlZWluZy1zdWJzdGFudGlhbC12aXJ1cy1zcHJlYWTSAWtodHRwczovL3d3dy5hYmMxNS5jb20vbmV3cy9jb3JvbmF2aXJ1cy9zdGF0ZS1hbGwtYXJpem9uYS1jb3VudGllcy1zZWVpbmctc3Vic3RhbnRpYWwtdmlydXMtc3ByZWFkP19hbXA9dHJ1ZQ?oc=5',\n",
       "     'title': 'State: All Arizona counties seeing substantial virus spread',\n",
       "     'publisher': 'ABC15 Arizona'},\n",
       "    {'url': 'https://news.google.com/__i/rss/rd/articles/CBMiU2h0dHBzOi8vd3d3LmtvbGQuY29tLzIwMjAvMTIvMjQvZmFtaWx5LWxvc2VzLWxvdmVkLW9uZXMtdmlydXMtbGVzcy10aGFuLXdlZWtzLWFyaXov0gFiaHR0cHM6Ly93d3cua29sZC5jb20vMjAyMC8xMi8yNC9mYW1pbHktbG9zZXMtbG92ZWQtb25lcy12aXJ1cy1sZXNzLXRoYW4td2Vla3MtYXJpei8_b3V0cHV0VHlwZT1hbXA?oc=5',\n",
       "     'title': 'Family loses 3 loved ones to virus in less than 3 weeks in Ariz.',\n",
       "     'publisher': 'KOLD'}]}]}"
      ]
     },
     "metadata": {},
     "execution_count": 27
    }
   ],
   "source": [
    "from pygooglenews import GoogleNews\n",
    "\n",
    "gn = GoogleNews()\n",
    "gn.topic_headlines('business')"
   ]
  },
  {
   "cell_type": "code",
   "execution_count": null,
   "metadata": {},
   "outputs": [],
   "source": []
  }
 ],
 "metadata": {
  "kernelspec": {
   "display_name": "Python 3",
   "language": "python",
   "name": "python3"
  },
  "language_info": {
   "codemirror_mode": {
    "name": "ipython",
    "version": 3
   },
   "file_extension": ".py",
   "mimetype": "text/x-python",
   "name": "python",
   "nbconvert_exporter": "python",
   "pygments_lexer": "ipython3",
   "version": "3.8.5-final"
  }
 },
 "nbformat": 4,
 "nbformat_minor": 4
}