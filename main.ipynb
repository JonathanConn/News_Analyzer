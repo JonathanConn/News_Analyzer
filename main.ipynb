{
 "cells": [
  {
   "cell_type": "code",
   "execution_count": 1,
   "metadata": {},
   "outputs": [],
   "source": [
    "import nltk\n",
    "from textblob import TextBlob\n",
    "from GoogleNews import GoogleNews"
   ]
  },
  {
   "cell_type": "code",
   "execution_count": 2,
   "metadata": {},
   "outputs": [],
   "source": [
    "googlenews = GoogleNews()\n",
    "googlenews.set_lang('en')\n",
    "googlenews.set_period('7d')\n",
    "googlenews.set_time_range('12/01/2020','12/24/2020')\n",
    "googlenews.set_encode('utf-8')"
   ]
  },
  {
   "cell_type": "code",
   "execution_count": 3,
   "metadata": {},
   "outputs": [],
   "source": [
    "googlenews.get_news('BTC')\n",
    "googlenews.search('BTC')"
   ]
  },
  {
   "cell_type": "code",
   "execution_count": 4,
   "metadata": {
    "scrolled": false
   },
   "outputs": [
    {
     "name": "stdout",
     "output_type": "stream",
     "text": [
      "Positive_feebacks Count : 26\n",
      "['An Unknown User Incurs More Than $80,000 in Transaction Fees When Sending BTC Worth $1 | Blockchain', 'New Bitcoin price highs revive old misconceptions about BTC and crypto', 'Bitcoin price drops to $23K in minutes despite huge new Grayscale buy-in', 'OpenDAO Builds New Yield Dollar Interface on Top of UMA, Accepts BTC as Collateral | Press release', \"Tesla's Elon Musk asks about converting 'large transactions' to bitcoin\", 'Bitcoin rejoins with S2F model price putting $100K BTC price right on track', 'Bitcoin Price Analysis: BTC bulls eye refreshing record top on the way to 24,000', 'Early Bitcoin dev misses out on $1.3B after selling too soon', '$1 Million Bitcoin Giveaway: Rapper Megan Thee Stallion Hands Out Free BTC on Twitter', 'BTC $20K & Beyond, FXCM CySec, AmEx Cyrpto, TFS-ICAP Fine: Editor’s Pick', 'Bitcoin Price Analysis: BTC Aim Fresh High Above $24,200', 'Another day, another all-time high — Bitcoin hits $24K in weekend surge', 'BTC/USD Forex Signal: More Bullish Movement', 'Free2ex Launches New Contest to Guess the Price of BTC', 'Record $6.5B Bitcoin options open interest follows BTC all-time high', 'Perpetual Protocol crosses $500K open interest cap amid BTC all-time high', \"Spanish Banking Giant Prepared For Bitcoin, PayPal's BTC Game + More News\", 'Bitcoin Price Prediction: BTC Should Be Worth $400,000, Guggenheim CIO Says', \"What Bitcoin all-time high? These 3 charts prove new retail buyers aren't here yet\", 'After BTC, BJP grabs Tiwa Autonomous Council in Assam, wins 33 out of 36 seats', 'Why is Bitcoin Heading Towards New Historical Maximums?', \"Nigeria Is Paxful's Second Biggest P2P Bitcoin Market, Trades Top $566 Million in Five Years | Emerging Markets\", 'BIOSTAR ANNOUNCES THE LATEST TB360-BTC D+ CRYPTO MINING MOTHERBOARD', 'TA: Bitcoin Holds Strong Above $22K, Why BTC Could Resume Its Rally', 'DeFi Tokens Take it Relatively Slow as Bitcoin Surges to $23,800, Prominent Investor Says Ethereum May Eventually Surpass BTC Market Cap: Report', 'Regulatory Crypto Primer, NiceHash Reimburses BTC 4.6K Hack Victims + More News']\n",
      "Negative_feedback Count : 57\n",
      "['XRP Crash Burns Other Crypto Asset Values, BTC Price Remains Unscathed | Market Updates', \"Bitcoin FOMO? Tesla and these four stocks crushed BTC's gains in 2020\", 'BTC price rises 5% after US Congress passes ‘$900 billion ad for Bitcoin’', 'JPMorgan Warns of Bitcoin Correction, Describing BTC as Overbought | Markets and Prices', \"Scaramucci's SkyBridge BTC fund launches with $25 million investment\", 'Ethereum vs. Bitcoin: Do or die as Ether price drops to a critical level against BTC', 'What Will the Price of BTC Be in 2021? BlockFi, Celsius, & Others Weigh In', 'Learning how to make bet BTC - 1xBit', 'ALT 5 Sigma Digital Instrument Market Summary for BTC, ETH, LTC, BCH', \"Bitcoin Addresses Holding $1 Million Goes 'Parabolic,' 10% of BTC Supply Sits Idle for 10 Years\", 'Bitcoin shortage as Wall Street FOMO turns BTC whales into ‘plankton’', 'Gauhati HC orders floor test of BTC executive council before Dec 26', 'Celebrity BTC scam ads tracked back to Moscow', 'The CIO of $230B AUM Guggenheim Just Called for $400,000 BTC', 'Embattled BTC miner Layer1 CEO resigns in settlement with founders', 'Hagrama Mohilary urges all regional parties to join hands in BTC', 'Reporter Recalls $200K BTC Sushi Dinner, Dev Sells 55,000 BTC for $30 a Coin | Featured', 'BTC Price Analysis: Bitcoin Consolidates After Weekly Correction, But Big Move Awaits - Where?', 'Ukrainian-owned US steel plant caught mining BTC: reports', 'Unity call to local parties for Bodoland Territorial Council', 'CryptoCompare December Review - Surging Institutional Demand For BTC', 'NUTS Finance integrates RenVM to streamline BTC cross-chain exchange', 'Ichimoku cloud analysis: BTC/USD, EUR/USD, USD/JPY', 'Price analysis 12/18: BTC, ETH, XRP, LTC, BCH, LINK, ADA, DOT, BNB, XLM', 'Bitcoin (BTC) Dips Below $23,000 Searching for a Bounce', 'Cyber security experts: BTC network vulnerable', 'Think Bitcoin will hit $100K? These traders will take that bet', 'Bitcoin soars above $23000 as mammoth 2020 rally drives record highs', 'Bitcoin’s Supply Liquidity Crisis is Extremely Bullish For BTC Price, Says Glassnode CTO', 'Ichimoku cloud analysis: BTC/USD, EUR/USD, USD/CAD', 'Bitcoin User Pays $80,000 Transaction Fee to Send Little Over $1 of BTC', 'MicroStrategy Investors Convinced On BTC', \"Bitcoin breaks records, what happens next, Coinbase IPO: Hodler's Digest, Dec. 13–19\", 'Previous Bitcoin Doubter Asks if Now Is the Time to Buy BTC', 'BTC/USD Forex Signal: Pullback and Consolidation', 'Twitter loses its mind over rapper’s ‘$1M Bitcoin giveaway’... worth $11 each', 'Gauhati HC orders ‘status quo’ on BTC executive council formation', 'India: BTC/BTR Transition In Assam - Analysis', 'BTC/USD Forecast: Bitcoin Acknowledging Gravity Again', 'Bitcoin, Ethereum Price Outlook: BTC/USD, ETH/USD Aims For Key Resistance', \"Bitcoin's (BTC) rising popularity not a threat to gold's status as currency of last resort, says Goldman Sachs\", 'After advising Elon Musk on BTC strategy, MicroStrategy CEO reveals firm’s purchase of 29,646 Bitcoin', 'Bitcoin (BTC) Closes Last Hour Up $75.47; 2 Day Down Streak Broken, in an Uptrend Over Past 90 Days', 'BTC/USD Forex Signal: Bullish Breakout Continues to Advance', 'Bitcoin, Stocks Nosedive Despite Incoming $900 Billion Stimulus', 'Ethereum eyeing $1000 after BTC hit $22,000', 'Bitcoin (BTC) Is Less Volatile Than Tesla (TSLA) Stock Says CoinShares’ Analyst', \"Bitcoin Price Prediction: BTC could hit $1 million by 2022 – reckons Coinfund's Seth Ginns\", 'As Bitcoin (BTC) Moves Past $23,500 Guggenheim CIO Calls for $400,000 Price...', 'US Bitcoin Mining Firm Core Scientific to Triple Capacity With Massive 59,000-Machine Order', '21M Bitcoin and the Promise of Scarcity | Op-Ed Bitcoin News', 'BTC/USD Forecast: Bitcoin Finally Breaks Above $20K Level', 'Bitcoin (BTC) Price Near $22869.52; Heads Down For the 2nd Straight Day, in an Uptrend Over Past 14 Days', 'Former Bitcoin developer revealed that he lost 55000 BTC', 'Russian BTC-e operator Alexander Vinnik appeals 5-year prison sentence in Paris', 'Bitcoin Reaches $24,000 as Institutional Adoption Continues, Raoul Pal Predicts $1 Million Per Coin in 5 Years', 'Bitcoin Fees Spike Almost 5X in One Week as BTC Reaches ATH']\n"
     ]
    }
   ],
   "source": [
    "headlines = googlenews.get_texts()\n",
    "\n",
    "feedbacks = headlines\n",
    "\n",
    "positive_feedbacks = []\n",
    "negative_feedbacks = []\n",
    "\n",
    "# polarity -1 < i < 1 indicates negative emotions\n",
    "# subjectivity -1 < j < 1 indicates positive emotions \n",
    "for feedback in feedbacks:\n",
    "  feedback_polarity = TextBlob(feedback).sentiment.polarity\n",
    "  if feedback_polarity>0:\n",
    "    positive_feedbacks.append(feedback)\n",
    "    continue\n",
    "  negative_feedbacks.append(feedback)\n",
    "  \n",
    "print('Positive_feebacks Count : {}'.format(len(positive_feedbacks)))\n",
    "print(positive_feedbacks)\n",
    "print('Negative_feedback Count : {}'.format(len(negative_feedbacks)))\n",
    "print(negative_feedbacks)"
   ]
  },
  {
   "cell_type": "code",
   "execution_count": null,
   "metadata": {},
   "outputs": [],
   "source": []
  },
  {
   "cell_type": "code",
   "execution_count": null,
   "metadata": {},
   "outputs": [],
   "source": []
  }
 ],
 "metadata": {
  "kernelspec": {
   "display_name": "Python 3",
   "language": "python",
   "name": "python3"
  },
  "language_info": {
   "codemirror_mode": {
    "name": "ipython",
    "version": 3
   },
   "file_extension": ".py",
   "mimetype": "text/x-python",
   "name": "python",
   "nbconvert_exporter": "python",
   "pygments_lexer": "ipython3",
   "version": "3.8.5"
  }
 },
 "nbformat": 4,
 "nbformat_minor": 4
}
